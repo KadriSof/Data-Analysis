{
 "cells": [
  {
   "cell_type": "markdown",
   "id": "a5f87c93",
   "metadata": {},
   "source": [
    "# Medical Appointment Data Analysis\n",
    "---\n",
    "**Author**: Mohamed Sofiene Kadri <br>\n",
    "**Date**: 18/07/2022 <br>\n",
    "**email**: mohamed.sofiene.kadri@gmail.com <br>\n",
    "**LinkedIn**: [mohamed-sofiene-kadri](https://www.linkedin.com/in/mohamed.sofiene.kadri) <br>\n",
    "**GitHub**: [KadriSof](https://github.com/KadriSof) <br>\n",
    "---\n",
    "\n",
    "## Introduction \n",
    "\n",
    "The goal of this project is to explore and provide a thourough analysis of medical appointments data from the Brazilian public health system.\n",
    "In this notebook we will walk through the whole process of Data Analysis using the Google Data Analytics approach for insights extraction. The process consists of 6 main phases: \n",
    "\n",
    "1. **ASK**: What questions do we need to answer and what's the main goal of our inquiry.\n",
    "2. **PREPARE**: Prepare and provide a full description of the data.\n",
    "3. **PROCESS**: Clean and fix the data.\n",
    "4. **ANALYZE**: Find answers to the posed questions.\n",
    "5. **SHARE**: Communicate the findings through visual representation of data.\n",
    "6. **ACT**: Recommendations and solutions.\n",
    "\n",
    "\n",
    "**Key Take-Away Points**:\n",
    "* Respecting the order of this process is of high importance to ensure a successful analysis.\n",
    "* Respecting the data ethics and the data life-cycle are important for a responsible and sustainable use of data.\n",
    "* Documenting through every phase of the project helps keeping track of the process.\n"
   ]
  },
  {
   "cell_type": "markdown",
   "id": "30327f97",
   "metadata": {},
   "source": [
    "## Ask: Define the problem\n",
    "\n",
    "The ask phase consists of answering a business question by a business goal using **SMART goal** approach.\n",
    "During this phase, and as an analysts, our work consists of asking questions to define both the issue to be solved and what would equal a successful result. \n",
    "\n",
    "Our business goal for this project is:  \n",
    "\n",
    "- **Analyze and investigate the Brazilian public health dataset to determine the five major factors that have the highest impact on patient appointment attendance between november 2015 and june 2016.**\n",
    "\n",
    "Accordingly, the purpose of this data analysis project is to analyze the dataset variables (Gender, Age, Neighbourhood, etc.) to figure out which factors are majorly behind the patient's no showing for their medical appointment. These findings will be used afterwards to improve the attendance rate by adjusting the appointment scheduling dates in order to improve the appointment attendance rate."
   ]
  },
  {
   "cell_type": "markdown",
   "id": "e2fba618",
   "metadata": {},
   "source": [
    "## Prepare: Collect and prepare the data\n",
    "\n",
    "The prepare phase consists of collecting, managing, and storing the data while taking in consideration security measures and successful data management practices (we will not be focusing on data management since its practices differ from one company to another).\n",
    "What we will be focusing on is:\n",
    "* How the data was collected or will be collected?\n",
    "* Does the collected data serves our analysis goal? \n",
    "* Where to store the data and how to keep it secure?\n",
    "\n",
    "Since we will be working with an already **collected** small dataset, there will be no need for setting a data collection and storage strategy. However, since we will work with an available dataset, we will need to verify the **data licence** and **data ROCCC** and provide a full description of the dataset.\n",
    "\n",
    "### Data licence: \n",
    "The data used is public available on [Kaggle](https://www.kaggle.com/datasets/joniarroba/noshowappointments) under a [CC BY-NC-SA 4.0](https://creativecommons.org/licenses/by-nc-sa/4.0/).\n",
    "\n",
    "### Data ROCCC: \n",
    "1. **Reliable**: MEDIUM - The data was collected between the 10th of November 2015 and the 8th of June 2016 and it cannot be used to provide any prediction or thourough analysis for a later period.\n",
    "2. **Original**: MEDIUM - The data was collected by the Brazilian public health system but it is publicaly provided by a third party.\n",
    "3. **Comprehensive**: HIGH - The data variables are clear and understandable and information about the variables is provided by the third party.\n",
    "4. **Current**: LOW - The data was collected between 2015 and 2016.\n",
    "5. **Cited**: LOW - The data is not cited.\n",
    "\n",
    "### Data Description:\n",
    "- **Data format**: CSV format structured tabular data.\n",
    "- **Dataset file size**: 2048 KB\n",
    "- **Number of variables (columns)**: 14 \n",
    "- **Number of observations (rows)**: 21515\n",
    "- **List of variables**: <br>\n",
    "PatientId: Identification of a patient. <br>\n",
    "AppointmentID: Identification number of each appointment. <br>\n",
    "Gender: Male or Female. <br>\n",
    "ScheduledDay: The scheduled day of the appointment. <br>\n",
    "AppointmentDay: The actual day of the appointment. <br>\n",
    "Age: How old is the patient. <br>\n",
    "Neighbourhood: What neighbourhood do the patient live in. <br>\n",
    "Scholarship: Whether the patient is a beneficiary of the social walfare program provide by the Brazilian government. <br>\n",
    "Hipertension: Have Hipertension or not. <br>\n",
    "Diabetes: Have diabetes or not. <br>\n",
    "Alcoholism: A victim of alcoholism or not. <br>\n",
    "Handcap: Have a disability or not. <br>\n",
    "SMS_received: Recieved a reminder sms or not. <br>\n",
    "No-show: Did the patient show to the appointment or not. <br>\n"
   ]
  },
  {
   "cell_type": "markdown",
   "id": "a18e39ee",
   "metadata": {},
   "source": [
    "## Process: Clean, transform, and validate the data\n",
    "\n",
    "The process phase is all about validating and cleaning the data for the goal of ensuring a neat analysis process.\n",
    "Before processing the data we need to pick the tools that we will be using for this task. Since we are working on a Jupyter notebook we will be using Python with the Pandas, Numpy, and Seaborn libraries. Spreadsheet tools like Excel can be helpful in data exploration and performing certain operations like pivot tables and fast calculations. \n",
    "\n",
    "Data validation is of high importance since we need to verify and ensure the data integrity (accuracy, completeness, and consistency) and to establish what data wrangling operations we need to perform.\n",
    "\n",
    "To validate the data we need to validate the data **structure**, **type**, and **range**, and see whether there are any **constraints** and **non-consistencies**. \n",
    "\n",
    "Consequently, our check list will be as follows:\n",
    "- Check the column names.\n",
    "- Check if there are wrong data types.\n",
    "- Check if there are wrong data ranges.\n",
    "- Check if there are missing values.\n",
    "- Check if there are duplicate values.\n",
    "\n",
    "Afterwards, data transformation operations will be carried out to prepare the data for smooth analysis.\n",
    "\n",
    "First let's start with setting our working space, preparing our tools, and importing the dataset!"
   ]
  },
  {
   "cell_type": "code",
   "execution_count": 2,
   "id": "15e55549",
   "metadata": {},
   "outputs": [
    {
     "name": "stdout",
     "output_type": "stream",
     "text": [
      "Requirement already satisfied: numpy in c:\\users\\prometheus\\appdata\\roaming\\python\\python38\\site-packages (1.21.6)\n",
      "Requirement already satisfied: pandas in c:\\users\\prometheus\\anaconda3\\envs\\dataanalysis\\lib\\site-packages (1.4.3)\n",
      "Requirement already satisfied: python-dateutil>=2.8.1 in c:\\users\\prometheus\\anaconda3\\envs\\dataanalysis\\lib\\site-packages (from pandas) (2.8.2)\n",
      "Requirement already satisfied: numpy>=1.18.5 in c:\\users\\prometheus\\appdata\\roaming\\python\\python38\\site-packages (from pandas) (1.21.6)\n",
      "Requirement already satisfied: pytz>=2020.1 in c:\\users\\prometheus\\anaconda3\\envs\\dataanalysis\\lib\\site-packages (from pandas) (2022.1)\n",
      "Requirement already satisfied: six>=1.5 in c:\\users\\prometheus\\anaconda3\\envs\\dataanalysis\\lib\\site-packages (from python-dateutil>=2.8.1->pandas) (1.16.0)\n",
      "Requirement already satisfied: matplotlib in c:\\users\\prometheus\\anaconda3\\envs\\dataanalysis\\lib\\site-packages (3.5.2)\n",
      "Requirement already satisfied: pillow>=6.2.0 in c:\\users\\prometheus\\anaconda3\\envs\\dataanalysis\\lib\\site-packages (from matplotlib) (9.2.0)\n",
      "Requirement already satisfied: pyparsing>=2.2.1 in c:\\users\\prometheus\\anaconda3\\envs\\dataanalysis\\lib\\site-packages (from matplotlib) (3.0.4)\n",
      "Requirement already satisfied: fonttools>=4.22.0 in c:\\users\\prometheus\\anaconda3\\envs\\dataanalysis\\lib\\site-packages (from matplotlib) (4.34.4)\n",
      "Requirement already satisfied: packaging>=20.0 in c:\\users\\prometheus\\anaconda3\\envs\\dataanalysis\\lib\\site-packages (from matplotlib) (21.3)\n",
      "Requirement already satisfied: python-dateutil>=2.7 in c:\\users\\prometheus\\anaconda3\\envs\\dataanalysis\\lib\\site-packages (from matplotlib) (2.8.2)\n",
      "Requirement already satisfied: numpy>=1.17 in c:\\users\\prometheus\\appdata\\roaming\\python\\python38\\site-packages (from matplotlib) (1.21.6)\n",
      "Requirement already satisfied: cycler>=0.10 in c:\\users\\prometheus\\anaconda3\\envs\\dataanalysis\\lib\\site-packages (from matplotlib) (0.11.0)\n",
      "Requirement already satisfied: kiwisolver>=1.0.1 in c:\\users\\prometheus\\anaconda3\\envs\\dataanalysis\\lib\\site-packages (from matplotlib) (1.4.4)\n",
      "Requirement already satisfied: six>=1.5 in c:\\users\\prometheus\\anaconda3\\envs\\dataanalysis\\lib\\site-packages (from python-dateutil>=2.7->matplotlib) (1.16.0)\n",
      "Requirement already satisfied: Seaborn in c:\\users\\prometheus\\anaconda3\\envs\\dataanalysis\\lib\\site-packages (0.11.2)\n",
      "Requirement already satisfied: scipy>=1.0 in c:\\users\\prometheus\\anaconda3\\envs\\dataanalysis\\lib\\site-packages (from Seaborn) (1.8.0)\n",
      "Requirement already satisfied: pandas>=0.23 in c:\\users\\prometheus\\anaconda3\\envs\\dataanalysis\\lib\\site-packages (from Seaborn) (1.4.3)\n",
      "Requirement already satisfied: numpy>=1.15 in c:\\users\\prometheus\\appdata\\roaming\\python\\python38\\site-packages (from Seaborn) (1.21.6)\n",
      "Requirement already satisfied: matplotlib>=2.2 in c:\\users\\prometheus\\anaconda3\\envs\\dataanalysis\\lib\\site-packages (from Seaborn) (3.5.2)\n",
      "Requirement already satisfied: python-dateutil>=2.7 in c:\\users\\prometheus\\anaconda3\\envs\\dataanalysis\\lib\\site-packages (from matplotlib>=2.2->Seaborn) (2.8.2)\n",
      "Requirement already satisfied: pyparsing>=2.2.1 in c:\\users\\prometheus\\anaconda3\\envs\\dataanalysis\\lib\\site-packages (from matplotlib>=2.2->Seaborn) (3.0.4)\n",
      "Requirement already satisfied: fonttools>=4.22.0 in c:\\users\\prometheus\\anaconda3\\envs\\dataanalysis\\lib\\site-packages (from matplotlib>=2.2->Seaborn) (4.34.4)\n",
      "Requirement already satisfied: cycler>=0.10 in c:\\users\\prometheus\\anaconda3\\envs\\dataanalysis\\lib\\site-packages (from matplotlib>=2.2->Seaborn) (0.11.0)\n",
      "Requirement already satisfied: packaging>=20.0 in c:\\users\\prometheus\\anaconda3\\envs\\dataanalysis\\lib\\site-packages (from matplotlib>=2.2->Seaborn) (21.3)\n",
      "Requirement already satisfied: kiwisolver>=1.0.1 in c:\\users\\prometheus\\anaconda3\\envs\\dataanalysis\\lib\\site-packages (from matplotlib>=2.2->Seaborn) (1.4.4)\n",
      "Requirement already satisfied: pillow>=6.2.0 in c:\\users\\prometheus\\anaconda3\\envs\\dataanalysis\\lib\\site-packages (from matplotlib>=2.2->Seaborn) (9.2.0)\n",
      "Requirement already satisfied: pytz>=2020.1 in c:\\users\\prometheus\\anaconda3\\envs\\dataanalysis\\lib\\site-packages (from pandas>=0.23->Seaborn) (2022.1)\n",
      "Requirement already satisfied: six>=1.5 in c:\\users\\prometheus\\anaconda3\\envs\\dataanalysis\\lib\\site-packages (from python-dateutil>=2.7->matplotlib>=2.2->Seaborn) (1.16.0)\n"
     ]
    }
   ],
   "source": [
    "#First we set our working space by installing the needed libraries\n",
    "!pip install numpy\n",
    "!pip install pandas\n",
    "!pip install matplotlib\n",
    "!pip install Seaborn"
   ]
  },
  {
   "cell_type": "code",
   "execution_count": 3,
   "id": "87316f9a",
   "metadata": {},
   "outputs": [],
   "source": [
    "#Second we import the installed libraries\n",
    "import numpy as np\n",
    "import pandas as pd\n",
    "import matplotlib.pyplot as plt\n",
    "import seaborn as sns\n",
    "\n",
    "#we pick a plot style (optional)\n",
    "sns.set_style('whitegrid')\n",
    "\n",
    "#make sure plots are inline with the notebook\n",
    "%matplotlib inline"
   ]
  },
  {
   "cell_type": "code",
   "execution_count": 4,
   "id": "be69eafe",
   "metadata": {},
   "outputs": [
    {
     "data": {
      "text/html": [
       "<div>\n",
       "<style scoped>\n",
       "    .dataframe tbody tr th:only-of-type {\n",
       "        vertical-align: middle;\n",
       "    }\n",
       "\n",
       "    .dataframe tbody tr th {\n",
       "        vertical-align: top;\n",
       "    }\n",
       "\n",
       "    .dataframe thead th {\n",
       "        text-align: right;\n",
       "    }\n",
       "</style>\n",
       "<table border=\"1\" class=\"dataframe\">\n",
       "  <thead>\n",
       "    <tr style=\"text-align: right;\">\n",
       "      <th></th>\n",
       "      <th>PatientId</th>\n",
       "      <th>AppointmentID</th>\n",
       "      <th>Gender</th>\n",
       "      <th>ScheduledDay</th>\n",
       "      <th>AppointmentDay</th>\n",
       "      <th>Age</th>\n",
       "      <th>Neighbourhood</th>\n",
       "      <th>Scholarship</th>\n",
       "      <th>Hipertension</th>\n",
       "      <th>Diabetes</th>\n",
       "      <th>Alcoholism</th>\n",
       "      <th>Handcap</th>\n",
       "      <th>SMS_received</th>\n",
       "      <th>No-show</th>\n",
       "    </tr>\n",
       "  </thead>\n",
       "  <tbody>\n",
       "    <tr>\n",
       "      <th>0</th>\n",
       "      <td>2.987250e+13</td>\n",
       "      <td>5642903</td>\n",
       "      <td>F</td>\n",
       "      <td>2016-04-29T18:38:08Z</td>\n",
       "      <td>2016-04-29T00:00:00Z</td>\n",
       "      <td>62.0</td>\n",
       "      <td>JARDIM DA PENHA</td>\n",
       "      <td>0.0</td>\n",
       "      <td>1.0</td>\n",
       "      <td>0.0</td>\n",
       "      <td>0.0</td>\n",
       "      <td>0.0</td>\n",
       "      <td>0.0</td>\n",
       "      <td>No</td>\n",
       "    </tr>\n",
       "    <tr>\n",
       "      <th>1</th>\n",
       "      <td>5.589978e+14</td>\n",
       "      <td>5642503</td>\n",
       "      <td>M</td>\n",
       "      <td>2016-04-29T16:08:27Z</td>\n",
       "      <td>2016-04-29T00:00:00Z</td>\n",
       "      <td>56.0</td>\n",
       "      <td>JARDIM DA PENHA</td>\n",
       "      <td>0.0</td>\n",
       "      <td>0.0</td>\n",
       "      <td>0.0</td>\n",
       "      <td>0.0</td>\n",
       "      <td>0.0</td>\n",
       "      <td>0.0</td>\n",
       "      <td>No</td>\n",
       "    </tr>\n",
       "    <tr>\n",
       "      <th>2</th>\n",
       "      <td>4.262962e+12</td>\n",
       "      <td>5642549</td>\n",
       "      <td>F</td>\n",
       "      <td>2016-04-29T16:19:04Z</td>\n",
       "      <td>2016-04-29T00:00:00Z</td>\n",
       "      <td>62.0</td>\n",
       "      <td>MATA DA PRAIA</td>\n",
       "      <td>0.0</td>\n",
       "      <td>0.0</td>\n",
       "      <td>0.0</td>\n",
       "      <td>0.0</td>\n",
       "      <td>0.0</td>\n",
       "      <td>0.0</td>\n",
       "      <td>No</td>\n",
       "    </tr>\n",
       "    <tr>\n",
       "      <th>3</th>\n",
       "      <td>8.679512e+11</td>\n",
       "      <td>5642828</td>\n",
       "      <td>F</td>\n",
       "      <td>2016-04-29T17:29:31Z</td>\n",
       "      <td>2016-04-29T00:00:00Z</td>\n",
       "      <td>8.0</td>\n",
       "      <td>PONTAL DE CAMBURI</td>\n",
       "      <td>0.0</td>\n",
       "      <td>0.0</td>\n",
       "      <td>0.0</td>\n",
       "      <td>0.0</td>\n",
       "      <td>0.0</td>\n",
       "      <td>0.0</td>\n",
       "      <td>No</td>\n",
       "    </tr>\n",
       "    <tr>\n",
       "      <th>4</th>\n",
       "      <td>8.841186e+12</td>\n",
       "      <td>5642494</td>\n",
       "      <td>F</td>\n",
       "      <td>2016-04-29T16:07:23Z</td>\n",
       "      <td>2016-04-29T00:00:00Z</td>\n",
       "      <td>56.0</td>\n",
       "      <td>JARDIM DA PENHA</td>\n",
       "      <td>0.0</td>\n",
       "      <td>1.0</td>\n",
       "      <td>1.0</td>\n",
       "      <td>0.0</td>\n",
       "      <td>0.0</td>\n",
       "      <td>0.0</td>\n",
       "      <td>No</td>\n",
       "    </tr>\n",
       "  </tbody>\n",
       "</table>\n",
       "</div>"
      ],
      "text/plain": [
       "      PatientId  AppointmentID Gender          ScheduledDay  \\\n",
       "0  2.987250e+13        5642903      F  2016-04-29T18:38:08Z   \n",
       "1  5.589978e+14        5642503      M  2016-04-29T16:08:27Z   \n",
       "2  4.262962e+12        5642549      F  2016-04-29T16:19:04Z   \n",
       "3  8.679512e+11        5642828      F  2016-04-29T17:29:31Z   \n",
       "4  8.841186e+12        5642494      F  2016-04-29T16:07:23Z   \n",
       "\n",
       "         AppointmentDay   Age      Neighbourhood  Scholarship  Hipertension  \\\n",
       "0  2016-04-29T00:00:00Z  62.0    JARDIM DA PENHA          0.0           1.0   \n",
       "1  2016-04-29T00:00:00Z  56.0    JARDIM DA PENHA          0.0           0.0   \n",
       "2  2016-04-29T00:00:00Z  62.0      MATA DA PRAIA          0.0           0.0   \n",
       "3  2016-04-29T00:00:00Z   8.0  PONTAL DE CAMBURI          0.0           0.0   \n",
       "4  2016-04-29T00:00:00Z  56.0    JARDIM DA PENHA          0.0           1.0   \n",
       "\n",
       "   Diabetes  Alcoholism  Handcap  SMS_received No-show  \n",
       "0       0.0         0.0      0.0           0.0      No  \n",
       "1       0.0         0.0      0.0           0.0      No  \n",
       "2       0.0         0.0      0.0           0.0      No  \n",
       "3       0.0         0.0      0.0           0.0      No  \n",
       "4       1.0         0.0      0.0           0.0      No  "
      ]
     },
     "execution_count": 4,
     "metadata": {},
     "output_type": "execute_result"
    }
   ],
   "source": [
    "#Now we load the dataset and take a sneak-peek on the loaded data\n",
    "df = pd.read_csv(\"no-showappointments.csv\")\n",
    "df.head()"
   ]
  },
  {
   "cell_type": "code",
   "execution_count": 5,
   "id": "c5086cc1",
   "metadata": {},
   "outputs": [
    {
     "data": {
      "text/html": [
       "<div>\n",
       "<style scoped>\n",
       "    .dataframe tbody tr th:only-of-type {\n",
       "        vertical-align: middle;\n",
       "    }\n",
       "\n",
       "    .dataframe tbody tr th {\n",
       "        vertical-align: top;\n",
       "    }\n",
       "\n",
       "    .dataframe thead th {\n",
       "        text-align: right;\n",
       "    }\n",
       "</style>\n",
       "<table border=\"1\" class=\"dataframe\">\n",
       "  <thead>\n",
       "    <tr style=\"text-align: right;\">\n",
       "      <th></th>\n",
       "      <th>PatientId</th>\n",
       "      <th>AppointmentID</th>\n",
       "      <th>Age</th>\n",
       "      <th>Scholarship</th>\n",
       "      <th>Hipertension</th>\n",
       "      <th>Diabetes</th>\n",
       "      <th>Alcoholism</th>\n",
       "      <th>Handcap</th>\n",
       "      <th>SMS_received</th>\n",
       "    </tr>\n",
       "  </thead>\n",
       "  <tbody>\n",
       "    <tr>\n",
       "      <th>count</th>\n",
       "      <td>2.151500e+04</td>\n",
       "      <td>2.151500e+04</td>\n",
       "      <td>21514.000000</td>\n",
       "      <td>21514.000000</td>\n",
       "      <td>21514.000000</td>\n",
       "      <td>21514.000000</td>\n",
       "      <td>21514.000000</td>\n",
       "      <td>21514.000000</td>\n",
       "      <td>21514.000000</td>\n",
       "    </tr>\n",
       "    <tr>\n",
       "      <th>mean</th>\n",
       "      <td>1.514828e+14</td>\n",
       "      <td>5.655370e+06</td>\n",
       "      <td>36.704750</td>\n",
       "      <td>0.088082</td>\n",
       "      <td>0.184577</td>\n",
       "      <td>0.062517</td>\n",
       "      <td>0.047039</td>\n",
       "      <td>0.020359</td>\n",
       "      <td>0.307939</td>\n",
       "    </tr>\n",
       "    <tr>\n",
       "      <th>std</th>\n",
       "      <td>2.615534e+14</td>\n",
       "      <td>6.310219e+04</td>\n",
       "      <td>22.264908</td>\n",
       "      <td>0.283421</td>\n",
       "      <td>0.387963</td>\n",
       "      <td>0.242099</td>\n",
       "      <td>0.211728</td>\n",
       "      <td>0.152313</td>\n",
       "      <td>0.461652</td>\n",
       "    </tr>\n",
       "    <tr>\n",
       "      <th>min</th>\n",
       "      <td>9.377953e+04</td>\n",
       "      <td>5.030230e+06</td>\n",
       "      <td>0.000000</td>\n",
       "      <td>0.000000</td>\n",
       "      <td>0.000000</td>\n",
       "      <td>0.000000</td>\n",
       "      <td>0.000000</td>\n",
       "      <td>0.000000</td>\n",
       "      <td>0.000000</td>\n",
       "    </tr>\n",
       "    <tr>\n",
       "      <th>25%</th>\n",
       "      <td>4.177533e+12</td>\n",
       "      <td>5.631100e+06</td>\n",
       "      <td>18.000000</td>\n",
       "      <td>0.000000</td>\n",
       "      <td>0.000000</td>\n",
       "      <td>0.000000</td>\n",
       "      <td>0.000000</td>\n",
       "      <td>0.000000</td>\n",
       "      <td>0.000000</td>\n",
       "    </tr>\n",
       "    <tr>\n",
       "      <th>50%</th>\n",
       "      <td>2.995543e+13</td>\n",
       "      <td>5.663916e+06</td>\n",
       "      <td>37.000000</td>\n",
       "      <td>0.000000</td>\n",
       "      <td>0.000000</td>\n",
       "      <td>0.000000</td>\n",
       "      <td>0.000000</td>\n",
       "      <td>0.000000</td>\n",
       "      <td>0.000000</td>\n",
       "    </tr>\n",
       "    <tr>\n",
       "      <th>75%</th>\n",
       "      <td>9.448833e+13</td>\n",
       "      <td>5.699542e+06</td>\n",
       "      <td>54.000000</td>\n",
       "      <td>0.000000</td>\n",
       "      <td>0.000000</td>\n",
       "      <td>0.000000</td>\n",
       "      <td>0.000000</td>\n",
       "      <td>0.000000</td>\n",
       "      <td>1.000000</td>\n",
       "    </tr>\n",
       "    <tr>\n",
       "      <th>max</th>\n",
       "      <td>9.999350e+14</td>\n",
       "      <td>5.754966e+06</td>\n",
       "      <td>98.000000</td>\n",
       "      <td>1.000000</td>\n",
       "      <td>1.000000</td>\n",
       "      <td>1.000000</td>\n",
       "      <td>1.000000</td>\n",
       "      <td>3.000000</td>\n",
       "      <td>1.000000</td>\n",
       "    </tr>\n",
       "  </tbody>\n",
       "</table>\n",
       "</div>"
      ],
      "text/plain": [
       "          PatientId  AppointmentID           Age   Scholarship  Hipertension  \\\n",
       "count  2.151500e+04   2.151500e+04  21514.000000  21514.000000  21514.000000   \n",
       "mean   1.514828e+14   5.655370e+06     36.704750      0.088082      0.184577   \n",
       "std    2.615534e+14   6.310219e+04     22.264908      0.283421      0.387963   \n",
       "min    9.377953e+04   5.030230e+06      0.000000      0.000000      0.000000   \n",
       "25%    4.177533e+12   5.631100e+06     18.000000      0.000000      0.000000   \n",
       "50%    2.995543e+13   5.663916e+06     37.000000      0.000000      0.000000   \n",
       "75%    9.448833e+13   5.699542e+06     54.000000      0.000000      0.000000   \n",
       "max    9.999350e+14   5.754966e+06     98.000000      1.000000      1.000000   \n",
       "\n",
       "           Diabetes    Alcoholism       Handcap  SMS_received  \n",
       "count  21514.000000  21514.000000  21514.000000  21514.000000  \n",
       "mean       0.062517      0.047039      0.020359      0.307939  \n",
       "std        0.242099      0.211728      0.152313      0.461652  \n",
       "min        0.000000      0.000000      0.000000      0.000000  \n",
       "25%        0.000000      0.000000      0.000000      0.000000  \n",
       "50%        0.000000      0.000000      0.000000      0.000000  \n",
       "75%        0.000000      0.000000      0.000000      1.000000  \n",
       "max        1.000000      1.000000      3.000000      1.000000  "
      ]
     },
     "execution_count": 5,
     "metadata": {},
     "output_type": "execute_result"
    }
   ],
   "source": [
    "#Let's check the statistic summary of the dataframe\n",
    "df.describe()"
   ]
  },
  {
   "cell_type": "code",
   "execution_count": 6,
   "id": "2ef6dcb7",
   "metadata": {},
   "outputs": [
    {
     "name": "stdout",
     "output_type": "stream",
     "text": [
      "<class 'pandas.core.frame.DataFrame'>\n",
      "RangeIndex: 21515 entries, 0 to 21514\n",
      "Data columns (total 14 columns):\n",
      " #   Column          Non-Null Count  Dtype  \n",
      "---  ------          --------------  -----  \n",
      " 0   PatientId       21515 non-null  float64\n",
      " 1   AppointmentID   21515 non-null  int64  \n",
      " 2   Gender          21515 non-null  object \n",
      " 3   ScheduledDay    21515 non-null  object \n",
      " 4   AppointmentDay  21514 non-null  object \n",
      " 5   Age             21514 non-null  float64\n",
      " 6   Neighbourhood   21514 non-null  object \n",
      " 7   Scholarship     21514 non-null  float64\n",
      " 8   Hipertension    21514 non-null  float64\n",
      " 9   Diabetes        21514 non-null  float64\n",
      " 10  Alcoholism      21514 non-null  float64\n",
      " 11  Handcap         21514 non-null  float64\n",
      " 12  SMS_received    21514 non-null  float64\n",
      " 13  No-show         21514 non-null  object \n",
      "dtypes: float64(8), int64(1), object(5)\n",
      "memory usage: 2.3+ MB\n"
     ]
    }
   ],
   "source": [
    "#Let's get more info about the variables, the observations, and the data type\n",
    "df.info()"
   ]
  },
  {
   "cell_type": "markdown",
   "id": "8d544442",
   "metadata": {},
   "source": [
    "Now let's check the data shape and data type of each column."
   ]
  },
  {
   "cell_type": "code",
   "execution_count": 7,
   "id": "920c1bd7",
   "metadata": {},
   "outputs": [
    {
     "name": "stdout",
     "output_type": "stream",
     "text": [
      "Data shape:  (21515, 14)\n"
     ]
    },
    {
     "data": {
      "text/html": [
       "<div>\n",
       "<style scoped>\n",
       "    .dataframe tbody tr th:only-of-type {\n",
       "        vertical-align: middle;\n",
       "    }\n",
       "\n",
       "    .dataframe tbody tr th {\n",
       "        vertical-align: top;\n",
       "    }\n",
       "\n",
       "    .dataframe thead th {\n",
       "        text-align: right;\n",
       "    }\n",
       "</style>\n",
       "<table border=\"1\" class=\"dataframe\">\n",
       "  <thead>\n",
       "    <tr style=\"text-align: right;\">\n",
       "      <th></th>\n",
       "      <th>data_type</th>\n",
       "    </tr>\n",
       "  </thead>\n",
       "  <tbody>\n",
       "    <tr>\n",
       "      <th>PatientId</th>\n",
       "      <td>float64</td>\n",
       "    </tr>\n",
       "    <tr>\n",
       "      <th>AppointmentID</th>\n",
       "      <td>int64</td>\n",
       "    </tr>\n",
       "    <tr>\n",
       "      <th>Gender</th>\n",
       "      <td>object</td>\n",
       "    </tr>\n",
       "    <tr>\n",
       "      <th>ScheduledDay</th>\n",
       "      <td>object</td>\n",
       "    </tr>\n",
       "    <tr>\n",
       "      <th>AppointmentDay</th>\n",
       "      <td>object</td>\n",
       "    </tr>\n",
       "    <tr>\n",
       "      <th>Age</th>\n",
       "      <td>float64</td>\n",
       "    </tr>\n",
       "    <tr>\n",
       "      <th>Neighbourhood</th>\n",
       "      <td>object</td>\n",
       "    </tr>\n",
       "    <tr>\n",
       "      <th>Scholarship</th>\n",
       "      <td>float64</td>\n",
       "    </tr>\n",
       "    <tr>\n",
       "      <th>Hipertension</th>\n",
       "      <td>float64</td>\n",
       "    </tr>\n",
       "    <tr>\n",
       "      <th>Diabetes</th>\n",
       "      <td>float64</td>\n",
       "    </tr>\n",
       "    <tr>\n",
       "      <th>Alcoholism</th>\n",
       "      <td>float64</td>\n",
       "    </tr>\n",
       "    <tr>\n",
       "      <th>Handcap</th>\n",
       "      <td>float64</td>\n",
       "    </tr>\n",
       "    <tr>\n",
       "      <th>SMS_received</th>\n",
       "      <td>float64</td>\n",
       "    </tr>\n",
       "    <tr>\n",
       "      <th>No-show</th>\n",
       "      <td>object</td>\n",
       "    </tr>\n",
       "  </tbody>\n",
       "</table>\n",
       "</div>"
      ],
      "text/plain": [
       "               data_type\n",
       "PatientId        float64\n",
       "AppointmentID      int64\n",
       "Gender            object\n",
       "ScheduledDay      object\n",
       "AppointmentDay    object\n",
       "Age              float64\n",
       "Neighbourhood     object\n",
       "Scholarship      float64\n",
       "Hipertension     float64\n",
       "Diabetes         float64\n",
       "Alcoholism       float64\n",
       "Handcap          float64\n",
       "SMS_received     float64\n",
       "No-show           object"
      ]
     },
     "execution_count": 7,
     "metadata": {},
     "output_type": "execute_result"
    }
   ],
   "source": [
    "#Let's verify the data shape and columns data types\n",
    "print(\"Data shape: \", df.shape)\n",
    "pd.DataFrame(df.dtypes, columns=['data_type'])"
   ]
  },
  {
   "cell_type": "markdown",
   "id": "f2614edf",
   "metadata": {},
   "source": [
    "As we can see we have fix few columns data types that are inconsistent like:\n",
    "- **PatientId**, **AppointmentID**, and **Age**: instead of float64 we can use int64. \n",
    "- **ScheduledDay** and **AppointmentDay**: data type should be datetime and not object.\n",
    "- **Scholarshipn**, **Hipertension**, **Diabetes**, **Alcoholism**, **Handcap**, **SMS_received**: int64 or boolean instead of float64. <br>\n",
    "\n",
    "but before we proceed to transforming the data and correcting the data type, we need to get rid of missing values and duplicate. So let's first check! "
   ]
  },
  {
   "cell_type": "code",
   "execution_count": 8,
   "id": "13b724ea",
   "metadata": {},
   "outputs": [
    {
     "data": {
      "text/plain": [
       "PatientId         False\n",
       "AppointmentID     False\n",
       "Gender            False\n",
       "ScheduledDay      False\n",
       "AppointmentDay     True\n",
       "Age                True\n",
       "Neighbourhood      True\n",
       "Scholarship        True\n",
       "Hipertension       True\n",
       "Diabetes           True\n",
       "Alcoholism         True\n",
       "Handcap            True\n",
       "SMS_received       True\n",
       "No-show            True\n",
       "dtype: bool"
      ]
     },
     "execution_count": 8,
     "metadata": {},
     "output_type": "execute_result"
    }
   ],
   "source": [
    "#Check for missing values\n",
    "df.isna().any()"
   ]
  },
  {
   "cell_type": "code",
   "execution_count": 9,
   "id": "af2a18fd",
   "metadata": {},
   "outputs": [
    {
     "data": {
      "text/plain": [
       "PatientId         0\n",
       "AppointmentID     0\n",
       "Gender            0\n",
       "ScheduledDay      0\n",
       "AppointmentDay    1\n",
       "Age               1\n",
       "Neighbourhood     1\n",
       "Scholarship       1\n",
       "Hipertension      1\n",
       "Diabetes          1\n",
       "Alcoholism        1\n",
       "Handcap           1\n",
       "SMS_received      1\n",
       "No-show           1\n",
       "dtype: int64"
      ]
     },
     "execution_count": 9,
     "metadata": {},
     "output_type": "execute_result"
    }
   ],
   "source": [
    "#Check the number of missing values per variable\n",
    "df.isna().sum()"
   ]
  },
  {
   "cell_type": "markdown",
   "id": "357f95e4",
   "metadata": {},
   "source": [
    "As we can see we have 10 missing values in 10 columns which means that at max we will have 10 observations to drop and since we have 21515 observation in total, dropping 10 won't affect our analysis. However, we will take an extra step and verify which rows have nan values."
   ]
  },
  {
   "cell_type": "code",
   "execution_count": 10,
   "id": "1e103e6c",
   "metadata": {},
   "outputs": [
    {
     "name": "stdout",
     "output_type": "stream",
     "text": [
      "Count of NaN: 10\n"
     ]
    },
    {
     "data": {
      "text/html": [
       "<div>\n",
       "<style scoped>\n",
       "    .dataframe tbody tr th:only-of-type {\n",
       "        vertical-align: middle;\n",
       "    }\n",
       "\n",
       "    .dataframe tbody tr th {\n",
       "        vertical-align: top;\n",
       "    }\n",
       "\n",
       "    .dataframe thead th {\n",
       "        text-align: right;\n",
       "    }\n",
       "</style>\n",
       "<table border=\"1\" class=\"dataframe\">\n",
       "  <thead>\n",
       "    <tr style=\"text-align: right;\">\n",
       "      <th></th>\n",
       "      <th>PatientId</th>\n",
       "      <th>AppointmentID</th>\n",
       "      <th>Gender</th>\n",
       "      <th>ScheduledDay</th>\n",
       "      <th>AppointmentDay</th>\n",
       "      <th>Age</th>\n",
       "      <th>Neighbourhood</th>\n",
       "      <th>Scholarship</th>\n",
       "      <th>Hipertension</th>\n",
       "      <th>Diabetes</th>\n",
       "      <th>Alcoholism</th>\n",
       "      <th>Handcap</th>\n",
       "      <th>SMS_received</th>\n",
       "      <th>No-show</th>\n",
       "    </tr>\n",
       "  </thead>\n",
       "  <tbody>\n",
       "    <tr>\n",
       "      <th>21514</th>\n",
       "      <td>7.472498e+13</td>\n",
       "      <td>5676926</td>\n",
       "      <td>F</td>\n",
       "      <td>2016-05-09T16:53:36Z</td>\n",
       "      <td>NaN</td>\n",
       "      <td>NaN</td>\n",
       "      <td>NaN</td>\n",
       "      <td>NaN</td>\n",
       "      <td>NaN</td>\n",
       "      <td>NaN</td>\n",
       "      <td>NaN</td>\n",
       "      <td>NaN</td>\n",
       "      <td>NaN</td>\n",
       "      <td>NaN</td>\n",
       "    </tr>\n",
       "  </tbody>\n",
       "</table>\n",
       "</div>"
      ],
      "text/plain": [
       "          PatientId  AppointmentID Gender          ScheduledDay  \\\n",
       "21514  7.472498e+13        5676926      F  2016-05-09T16:53:36Z   \n",
       "\n",
       "      AppointmentDay  Age Neighbourhood  Scholarship  Hipertension  Diabetes  \\\n",
       "21514            NaN  NaN           NaN          NaN           NaN       NaN   \n",
       "\n",
       "       Alcoholism  Handcap  SMS_received No-show  \n",
       "21514         NaN      NaN           NaN     NaN  "
      ]
     },
     "execution_count": 10,
     "metadata": {},
     "output_type": "execute_result"
    }
   ],
   "source": [
    "#Let's make a dataframe with the rows that have nan values and check it out\n",
    "count_nan = df.isna().sum().sum()\n",
    "print ('Count of NaN: ' + str(count_nan))\n",
    "nan_values = df[df.isna().any(axis=1)]\n",
    "nan_values.head(count_nan)"
   ]
  },
  {
   "cell_type": "markdown",
   "id": "9bf23fe7",
   "metadata": {},
   "source": [
    "Hurray! we only have one row (idx: 21514) that have all the 10 missing values. Now we will drop this row and move on."
   ]
  },
  {
   "cell_type": "code",
   "execution_count": 11,
   "id": "a3cfe3b0",
   "metadata": {},
   "outputs": [
    {
     "data": {
      "text/plain": [
       "PatientId         0\n",
       "AppointmentID     0\n",
       "Gender            0\n",
       "ScheduledDay      0\n",
       "AppointmentDay    0\n",
       "Age               0\n",
       "Neighbourhood     0\n",
       "Scholarship       0\n",
       "Hipertension      0\n",
       "Diabetes          0\n",
       "Alcoholism        0\n",
       "Handcap           0\n",
       "SMS_received      0\n",
       "No-show           0\n",
       "dtype: int64"
      ]
     },
     "execution_count": 11,
     "metadata": {},
     "output_type": "execute_result"
    }
   ],
   "source": [
    "#Now let's drop the rows with missing values and check again\n",
    "df.dropna(inplace=True)\n",
    "df.isna().sum()"
   ]
  },
  {
   "cell_type": "code",
   "execution_count": 12,
   "id": "31c83280",
   "metadata": {},
   "outputs": [
    {
     "data": {
      "text/plain": [
       "False"
      ]
     },
     "execution_count": 12,
     "metadata": {},
     "output_type": "execute_result"
    }
   ],
   "source": [
    "#Check for duplicate values\n",
    "df.duplicated().any()"
   ]
  },
  {
   "cell_type": "markdown",
   "id": "ae81778e",
   "metadata": {},
   "source": [
    "No duplicates! We proceed now to the data transformation process and we will start by correcting the columns data type."
   ]
  },
  {
   "cell_type": "code",
   "execution_count": 13,
   "id": "92205590",
   "metadata": {},
   "outputs": [
    {
     "name": "stdout",
     "output_type": "stream",
     "text": [
      "Data shape:  (21514, 14)\n"
     ]
    },
    {
     "data": {
      "text/html": [
       "<div>\n",
       "<style scoped>\n",
       "    .dataframe tbody tr th:only-of-type {\n",
       "        vertical-align: middle;\n",
       "    }\n",
       "\n",
       "    .dataframe tbody tr th {\n",
       "        vertical-align: top;\n",
       "    }\n",
       "\n",
       "    .dataframe thead th {\n",
       "        text-align: right;\n",
       "    }\n",
       "</style>\n",
       "<table border=\"1\" class=\"dataframe\">\n",
       "  <thead>\n",
       "    <tr style=\"text-align: right;\">\n",
       "      <th></th>\n",
       "      <th>data_type</th>\n",
       "    </tr>\n",
       "  </thead>\n",
       "  <tbody>\n",
       "    <tr>\n",
       "      <th>PatientId</th>\n",
       "      <td>int64</td>\n",
       "    </tr>\n",
       "    <tr>\n",
       "      <th>AppointmentID</th>\n",
       "      <td>int64</td>\n",
       "    </tr>\n",
       "    <tr>\n",
       "      <th>Gender</th>\n",
       "      <td>object</td>\n",
       "    </tr>\n",
       "    <tr>\n",
       "      <th>ScheduledDay</th>\n",
       "      <td>datetime64[ns, UTC]</td>\n",
       "    </tr>\n",
       "    <tr>\n",
       "      <th>AppointmentDay</th>\n",
       "      <td>datetime64[ns, UTC]</td>\n",
       "    </tr>\n",
       "    <tr>\n",
       "      <th>Age</th>\n",
       "      <td>int8</td>\n",
       "    </tr>\n",
       "    <tr>\n",
       "      <th>Neighbourhood</th>\n",
       "      <td>object</td>\n",
       "    </tr>\n",
       "    <tr>\n",
       "      <th>Scholarship</th>\n",
       "      <td>int8</td>\n",
       "    </tr>\n",
       "    <tr>\n",
       "      <th>Hipertension</th>\n",
       "      <td>int8</td>\n",
       "    </tr>\n",
       "    <tr>\n",
       "      <th>Diabetes</th>\n",
       "      <td>int8</td>\n",
       "    </tr>\n",
       "    <tr>\n",
       "      <th>Alcoholism</th>\n",
       "      <td>int8</td>\n",
       "    </tr>\n",
       "    <tr>\n",
       "      <th>Handcap</th>\n",
       "      <td>int8</td>\n",
       "    </tr>\n",
       "    <tr>\n",
       "      <th>SMS_received</th>\n",
       "      <td>int8</td>\n",
       "    </tr>\n",
       "    <tr>\n",
       "      <th>No-show</th>\n",
       "      <td>object</td>\n",
       "    </tr>\n",
       "  </tbody>\n",
       "</table>\n",
       "</div>"
      ],
      "text/plain": [
       "                          data_type\n",
       "PatientId                     int64\n",
       "AppointmentID                 int64\n",
       "Gender                       object\n",
       "ScheduledDay    datetime64[ns, UTC]\n",
       "AppointmentDay  datetime64[ns, UTC]\n",
       "Age                            int8\n",
       "Neighbourhood                object\n",
       "Scholarship                    int8\n",
       "Hipertension                   int8\n",
       "Diabetes                       int8\n",
       "Alcoholism                     int8\n",
       "Handcap                        int8\n",
       "SMS_received                   int8\n",
       "No-show                      object"
      ]
     },
     "execution_count": 13,
     "metadata": {},
     "output_type": "execute_result"
    }
   ],
   "source": [
    "df[\"PatientId\"] = df[\"PatientId\"].astype(np.int64)\n",
    "df[\"AppointmentID\"] = df[\"AppointmentID\"].astype(np.int64)\n",
    "\n",
    "df['ScheduledDay'] = pd.to_datetime(df['ScheduledDay'])\n",
    "df['AppointmentDay'] = pd.to_datetime(df[\"AppointmentDay\"])\n",
    "\n",
    "#Here we will be choosing the np.int8 (numpy.byte) since the values are either 0 or 1\n",
    "#This choice is for computational purposes\n",
    "df[\"Age\"] = df[\"Age\"].astype(np.int8)\n",
    "df[\"Scholarship\"] = df[\"Scholarship\"].astype(np.int8)\n",
    "df[\"Hipertension\"] = df[\"Hipertension\"].astype(np.int8)\n",
    "df[\"Diabetes\"] = df[\"Diabetes\"].astype(np.int8)\n",
    "df[\"Alcoholism\"] = df[\"Alcoholism\"].astype(np.int8)\n",
    "df[\"Handcap\"] = df[\"Handcap\"].astype(np.int8)\n",
    "df[\"SMS_received\"] = df[\"SMS_received\"].astype(np.int8)\n",
    "\n",
    "#Let's verify again the data shape and columns data types\n",
    "print(\"Data shape: \", df.shape)\n",
    "pd.DataFrame(df.dtypes, columns=['data_type'])"
   ]
  },
  {
   "cell_type": "markdown",
   "id": "71a47b59",
   "metadata": {},
   "source": [
    "Now we will change the column names to lower case and replace all '-' with '_' and transform the 'No-show' column to 'show' column by inverting the original mapping for better concistency and clarity."
   ]
  },
  {
   "cell_type": "code",
   "execution_count": 14,
   "id": "5d988687",
   "metadata": {},
   "outputs": [
    {
     "data": {
      "text/html": [
       "<div>\n",
       "<style scoped>\n",
       "    .dataframe tbody tr th:only-of-type {\n",
       "        vertical-align: middle;\n",
       "    }\n",
       "\n",
       "    .dataframe tbody tr th {\n",
       "        vertical-align: top;\n",
       "    }\n",
       "\n",
       "    .dataframe thead th {\n",
       "        text-align: right;\n",
       "    }\n",
       "</style>\n",
       "<table border=\"1\" class=\"dataframe\">\n",
       "  <thead>\n",
       "    <tr style=\"text-align: right;\">\n",
       "      <th></th>\n",
       "      <th>0</th>\n",
       "    </tr>\n",
       "  </thead>\n",
       "  <tbody>\n",
       "    <tr>\n",
       "      <th>0</th>\n",
       "      <td>patientid</td>\n",
       "    </tr>\n",
       "    <tr>\n",
       "      <th>1</th>\n",
       "      <td>appointmentid</td>\n",
       "    </tr>\n",
       "    <tr>\n",
       "      <th>2</th>\n",
       "      <td>gender</td>\n",
       "    </tr>\n",
       "    <tr>\n",
       "      <th>3</th>\n",
       "      <td>scheduledday</td>\n",
       "    </tr>\n",
       "    <tr>\n",
       "      <th>4</th>\n",
       "      <td>appointmentday</td>\n",
       "    </tr>\n",
       "    <tr>\n",
       "      <th>5</th>\n",
       "      <td>age</td>\n",
       "    </tr>\n",
       "    <tr>\n",
       "      <th>6</th>\n",
       "      <td>neighbourhood</td>\n",
       "    </tr>\n",
       "    <tr>\n",
       "      <th>7</th>\n",
       "      <td>scholarship</td>\n",
       "    </tr>\n",
       "    <tr>\n",
       "      <th>8</th>\n",
       "      <td>hipertension</td>\n",
       "    </tr>\n",
       "    <tr>\n",
       "      <th>9</th>\n",
       "      <td>diabetes</td>\n",
       "    </tr>\n",
       "    <tr>\n",
       "      <th>10</th>\n",
       "      <td>alcoholism</td>\n",
       "    </tr>\n",
       "    <tr>\n",
       "      <th>11</th>\n",
       "      <td>handcap</td>\n",
       "    </tr>\n",
       "    <tr>\n",
       "      <th>12</th>\n",
       "      <td>sms_received</td>\n",
       "    </tr>\n",
       "    <tr>\n",
       "      <th>13</th>\n",
       "      <td>no_show</td>\n",
       "    </tr>\n",
       "  </tbody>\n",
       "</table>\n",
       "</div>"
      ],
      "text/plain": [
       "                 0\n",
       "0        patientid\n",
       "1    appointmentid\n",
       "2           gender\n",
       "3     scheduledday\n",
       "4   appointmentday\n",
       "5              age\n",
       "6    neighbourhood\n",
       "7      scholarship\n",
       "8     hipertension\n",
       "9         diabetes\n",
       "10      alcoholism\n",
       "11         handcap\n",
       "12    sms_received\n",
       "13         no_show"
      ]
     },
     "execution_count": 14,
     "metadata": {},
     "output_type": "execute_result"
    }
   ],
   "source": [
    "### Change all cloumns name to lower case and replace all - with _\n",
    "df.columns=df.columns.str.lower().str.replace('-','_')\n",
    "pd.DataFrame(df.columns)"
   ]
  },
  {
   "cell_type": "code",
   "execution_count": 15,
   "id": "7ea5aefd",
   "metadata": {},
   "outputs": [
    {
     "name": "stdout",
     "output_type": "stream",
     "text": [
      "[1 0]\n"
     ]
    }
   ],
   "source": [
    "df.no_show = df.no_show.map({'No':1,'Yes':0})\n",
    "df.rename(columns={'no_show':'show'},inplace=True)\n",
    "print(df.show.unique())"
   ]
  },
  {
   "cell_type": "markdown",
   "id": "53a722a1",
   "metadata": {},
   "source": [
    "And let's create a new column that shows the days difference between the scheduled day and the appointment day and add it to our data frame."
   ]
  },
  {
   "cell_type": "code",
   "execution_count": 16,
   "id": "202305c6",
   "metadata": {},
   "outputs": [],
   "source": [
    "day_diff=(df.appointmentday.dt.date - df.scheduledday.dt.date).dt.days \n",
    "df.insert(3,'day_diff',day_diff)\n",
    "df['day_diff'] = df['day_diff'].astype(np.int8)"
   ]
  },
  {
   "cell_type": "markdown",
   "id": "013d471c",
   "metadata": {},
   "source": [
    "Let's have a final verification of the cleaned and transformed data."
   ]
  },
  {
   "cell_type": "code",
   "execution_count": 17,
   "id": "ad2cbac0",
   "metadata": {},
   "outputs": [
    {
     "data": {
      "text/html": [
       "<div>\n",
       "<style scoped>\n",
       "    .dataframe tbody tr th:only-of-type {\n",
       "        vertical-align: middle;\n",
       "    }\n",
       "\n",
       "    .dataframe tbody tr th {\n",
       "        vertical-align: top;\n",
       "    }\n",
       "\n",
       "    .dataframe thead th {\n",
       "        text-align: right;\n",
       "    }\n",
       "</style>\n",
       "<table border=\"1\" class=\"dataframe\">\n",
       "  <thead>\n",
       "    <tr style=\"text-align: right;\">\n",
       "      <th></th>\n",
       "      <th>patientid</th>\n",
       "      <th>appointmentid</th>\n",
       "      <th>gender</th>\n",
       "      <th>day_diff</th>\n",
       "      <th>scheduledday</th>\n",
       "      <th>appointmentday</th>\n",
       "      <th>age</th>\n",
       "      <th>neighbourhood</th>\n",
       "      <th>scholarship</th>\n",
       "      <th>hipertension</th>\n",
       "      <th>diabetes</th>\n",
       "      <th>alcoholism</th>\n",
       "      <th>handcap</th>\n",
       "      <th>sms_received</th>\n",
       "      <th>show</th>\n",
       "    </tr>\n",
       "  </thead>\n",
       "  <tbody>\n",
       "    <tr>\n",
       "      <th>0</th>\n",
       "      <td>29872499824296</td>\n",
       "      <td>5642903</td>\n",
       "      <td>F</td>\n",
       "      <td>0</td>\n",
       "      <td>2016-04-29 18:38:08+00:00</td>\n",
       "      <td>2016-04-29 00:00:00+00:00</td>\n",
       "      <td>62</td>\n",
       "      <td>JARDIM DA PENHA</td>\n",
       "      <td>0</td>\n",
       "      <td>1</td>\n",
       "      <td>0</td>\n",
       "      <td>0</td>\n",
       "      <td>0</td>\n",
       "      <td>0</td>\n",
       "      <td>1</td>\n",
       "    </tr>\n",
       "    <tr>\n",
       "      <th>1</th>\n",
       "      <td>558997776694438</td>\n",
       "      <td>5642503</td>\n",
       "      <td>M</td>\n",
       "      <td>0</td>\n",
       "      <td>2016-04-29 16:08:27+00:00</td>\n",
       "      <td>2016-04-29 00:00:00+00:00</td>\n",
       "      <td>56</td>\n",
       "      <td>JARDIM DA PENHA</td>\n",
       "      <td>0</td>\n",
       "      <td>0</td>\n",
       "      <td>0</td>\n",
       "      <td>0</td>\n",
       "      <td>0</td>\n",
       "      <td>0</td>\n",
       "      <td>1</td>\n",
       "    </tr>\n",
       "    <tr>\n",
       "      <th>2</th>\n",
       "      <td>4262962299951</td>\n",
       "      <td>5642549</td>\n",
       "      <td>F</td>\n",
       "      <td>0</td>\n",
       "      <td>2016-04-29 16:19:04+00:00</td>\n",
       "      <td>2016-04-29 00:00:00+00:00</td>\n",
       "      <td>62</td>\n",
       "      <td>MATA DA PRAIA</td>\n",
       "      <td>0</td>\n",
       "      <td>0</td>\n",
       "      <td>0</td>\n",
       "      <td>0</td>\n",
       "      <td>0</td>\n",
       "      <td>0</td>\n",
       "      <td>1</td>\n",
       "    </tr>\n",
       "    <tr>\n",
       "      <th>3</th>\n",
       "      <td>867951213174</td>\n",
       "      <td>5642828</td>\n",
       "      <td>F</td>\n",
       "      <td>0</td>\n",
       "      <td>2016-04-29 17:29:31+00:00</td>\n",
       "      <td>2016-04-29 00:00:00+00:00</td>\n",
       "      <td>8</td>\n",
       "      <td>PONTAL DE CAMBURI</td>\n",
       "      <td>0</td>\n",
       "      <td>0</td>\n",
       "      <td>0</td>\n",
       "      <td>0</td>\n",
       "      <td>0</td>\n",
       "      <td>0</td>\n",
       "      <td>1</td>\n",
       "    </tr>\n",
       "    <tr>\n",
       "      <th>4</th>\n",
       "      <td>8841186448183</td>\n",
       "      <td>5642494</td>\n",
       "      <td>F</td>\n",
       "      <td>0</td>\n",
       "      <td>2016-04-29 16:07:23+00:00</td>\n",
       "      <td>2016-04-29 00:00:00+00:00</td>\n",
       "      <td>56</td>\n",
       "      <td>JARDIM DA PENHA</td>\n",
       "      <td>0</td>\n",
       "      <td>1</td>\n",
       "      <td>1</td>\n",
       "      <td>0</td>\n",
       "      <td>0</td>\n",
       "      <td>0</td>\n",
       "      <td>1</td>\n",
       "    </tr>\n",
       "  </tbody>\n",
       "</table>\n",
       "</div>"
      ],
      "text/plain": [
       "         patientid  appointmentid gender  day_diff              scheduledday  \\\n",
       "0   29872499824296        5642903      F         0 2016-04-29 18:38:08+00:00   \n",
       "1  558997776694438        5642503      M         0 2016-04-29 16:08:27+00:00   \n",
       "2    4262962299951        5642549      F         0 2016-04-29 16:19:04+00:00   \n",
       "3     867951213174        5642828      F         0 2016-04-29 17:29:31+00:00   \n",
       "4    8841186448183        5642494      F         0 2016-04-29 16:07:23+00:00   \n",
       "\n",
       "             appointmentday  age      neighbourhood  scholarship  \\\n",
       "0 2016-04-29 00:00:00+00:00   62    JARDIM DA PENHA            0   \n",
       "1 2016-04-29 00:00:00+00:00   56    JARDIM DA PENHA            0   \n",
       "2 2016-04-29 00:00:00+00:00   62      MATA DA PRAIA            0   \n",
       "3 2016-04-29 00:00:00+00:00    8  PONTAL DE CAMBURI            0   \n",
       "4 2016-04-29 00:00:00+00:00   56    JARDIM DA PENHA            0   \n",
       "\n",
       "   hipertension  diabetes  alcoholism  handcap  sms_received  show  \n",
       "0             1         0           0        0             0     1  \n",
       "1             0         0           0        0             0     1  \n",
       "2             0         0           0        0             0     1  \n",
       "3             0         0           0        0             0     1  \n",
       "4             1         1           0        0             0     1  "
      ]
     },
     "execution_count": 17,
     "metadata": {},
     "output_type": "execute_result"
    }
   ],
   "source": [
    "df.head()"
   ]
  },
  {
   "cell_type": "code",
   "execution_count": 18,
   "id": "c40ad214",
   "metadata": {},
   "outputs": [
    {
     "data": {
      "text/html": [
       "<div>\n",
       "<style scoped>\n",
       "    .dataframe tbody tr th:only-of-type {\n",
       "        vertical-align: middle;\n",
       "    }\n",
       "\n",
       "    .dataframe tbody tr th {\n",
       "        vertical-align: top;\n",
       "    }\n",
       "\n",
       "    .dataframe thead th {\n",
       "        text-align: right;\n",
       "    }\n",
       "</style>\n",
       "<table border=\"1\" class=\"dataframe\">\n",
       "  <thead>\n",
       "    <tr style=\"text-align: right;\">\n",
       "      <th></th>\n",
       "      <th>patientid</th>\n",
       "      <th>appointmentid</th>\n",
       "      <th>day_diff</th>\n",
       "      <th>age</th>\n",
       "      <th>scholarship</th>\n",
       "      <th>hipertension</th>\n",
       "      <th>diabetes</th>\n",
       "      <th>alcoholism</th>\n",
       "      <th>handcap</th>\n",
       "      <th>sms_received</th>\n",
       "      <th>show</th>\n",
       "    </tr>\n",
       "  </thead>\n",
       "  <tbody>\n",
       "    <tr>\n",
       "      <th>count</th>\n",
       "      <td>2.151400e+04</td>\n",
       "      <td>2.151400e+04</td>\n",
       "      <td>21514.000000</td>\n",
       "      <td>21514.000000</td>\n",
       "      <td>21514.000000</td>\n",
       "      <td>21514.000000</td>\n",
       "      <td>21514.000000</td>\n",
       "      <td>21514.000000</td>\n",
       "      <td>21514.000000</td>\n",
       "      <td>21514.000000</td>\n",
       "      <td>21514.000000</td>\n",
       "    </tr>\n",
       "    <tr>\n",
       "      <th>mean</th>\n",
       "      <td>1.514864e+14</td>\n",
       "      <td>5.655369e+06</td>\n",
       "      <td>8.895463</td>\n",
       "      <td>36.704750</td>\n",
       "      <td>0.088082</td>\n",
       "      <td>0.184577</td>\n",
       "      <td>0.062517</td>\n",
       "      <td>0.047039</td>\n",
       "      <td>0.020359</td>\n",
       "      <td>0.307939</td>\n",
       "      <td>0.799015</td>\n",
       "    </tr>\n",
       "    <tr>\n",
       "      <th>std</th>\n",
       "      <td>2.615590e+14</td>\n",
       "      <td>6.310348e+04</td>\n",
       "      <td>13.360183</td>\n",
       "      <td>22.264908</td>\n",
       "      <td>0.283421</td>\n",
       "      <td>0.387963</td>\n",
       "      <td>0.242099</td>\n",
       "      <td>0.211728</td>\n",
       "      <td>0.152313</td>\n",
       "      <td>0.461652</td>\n",
       "      <td>0.400746</td>\n",
       "    </tr>\n",
       "    <tr>\n",
       "      <th>min</th>\n",
       "      <td>9.377900e+04</td>\n",
       "      <td>5.030230e+06</td>\n",
       "      <td>-80.000000</td>\n",
       "      <td>0.000000</td>\n",
       "      <td>0.000000</td>\n",
       "      <td>0.000000</td>\n",
       "      <td>0.000000</td>\n",
       "      <td>0.000000</td>\n",
       "      <td>0.000000</td>\n",
       "      <td>0.000000</td>\n",
       "      <td>0.000000</td>\n",
       "    </tr>\n",
       "    <tr>\n",
       "      <th>25%</th>\n",
       "      <td>4.177479e+12</td>\n",
       "      <td>5.631100e+06</td>\n",
       "      <td>0.000000</td>\n",
       "      <td>18.000000</td>\n",
       "      <td>0.000000</td>\n",
       "      <td>0.000000</td>\n",
       "      <td>0.000000</td>\n",
       "      <td>0.000000</td>\n",
       "      <td>0.000000</td>\n",
       "      <td>0.000000</td>\n",
       "      <td>1.000000</td>\n",
       "    </tr>\n",
       "    <tr>\n",
       "      <th>50%</th>\n",
       "      <td>2.995543e+13</td>\n",
       "      <td>5.663912e+06</td>\n",
       "      <td>4.000000</td>\n",
       "      <td>37.000000</td>\n",
       "      <td>0.000000</td>\n",
       "      <td>0.000000</td>\n",
       "      <td>0.000000</td>\n",
       "      <td>0.000000</td>\n",
       "      <td>0.000000</td>\n",
       "      <td>0.000000</td>\n",
       "      <td>1.000000</td>\n",
       "    </tr>\n",
       "    <tr>\n",
       "      <th>75%</th>\n",
       "      <td>9.448833e+13</td>\n",
       "      <td>5.699543e+06</td>\n",
       "      <td>11.000000</td>\n",
       "      <td>54.000000</td>\n",
       "      <td>0.000000</td>\n",
       "      <td>0.000000</td>\n",
       "      <td>0.000000</td>\n",
       "      <td>0.000000</td>\n",
       "      <td>0.000000</td>\n",
       "      <td>1.000000</td>\n",
       "      <td>1.000000</td>\n",
       "    </tr>\n",
       "    <tr>\n",
       "      <th>max</th>\n",
       "      <td>9.999350e+14</td>\n",
       "      <td>5.754966e+06</td>\n",
       "      <td>115.000000</td>\n",
       "      <td>98.000000</td>\n",
       "      <td>1.000000</td>\n",
       "      <td>1.000000</td>\n",
       "      <td>1.000000</td>\n",
       "      <td>1.000000</td>\n",
       "      <td>3.000000</td>\n",
       "      <td>1.000000</td>\n",
       "      <td>1.000000</td>\n",
       "    </tr>\n",
       "  </tbody>\n",
       "</table>\n",
       "</div>"
      ],
      "text/plain": [
       "          patientid  appointmentid      day_diff           age   scholarship  \\\n",
       "count  2.151400e+04   2.151400e+04  21514.000000  21514.000000  21514.000000   \n",
       "mean   1.514864e+14   5.655369e+06      8.895463     36.704750      0.088082   \n",
       "std    2.615590e+14   6.310348e+04     13.360183     22.264908      0.283421   \n",
       "min    9.377900e+04   5.030230e+06    -80.000000      0.000000      0.000000   \n",
       "25%    4.177479e+12   5.631100e+06      0.000000     18.000000      0.000000   \n",
       "50%    2.995543e+13   5.663912e+06      4.000000     37.000000      0.000000   \n",
       "75%    9.448833e+13   5.699543e+06     11.000000     54.000000      0.000000   \n",
       "max    9.999350e+14   5.754966e+06    115.000000     98.000000      1.000000   \n",
       "\n",
       "       hipertension      diabetes    alcoholism       handcap  sms_received  \\\n",
       "count  21514.000000  21514.000000  21514.000000  21514.000000  21514.000000   \n",
       "mean       0.184577      0.062517      0.047039      0.020359      0.307939   \n",
       "std        0.387963      0.242099      0.211728      0.152313      0.461652   \n",
       "min        0.000000      0.000000      0.000000      0.000000      0.000000   \n",
       "25%        0.000000      0.000000      0.000000      0.000000      0.000000   \n",
       "50%        0.000000      0.000000      0.000000      0.000000      0.000000   \n",
       "75%        0.000000      0.000000      0.000000      0.000000      1.000000   \n",
       "max        1.000000      1.000000      1.000000      3.000000      1.000000   \n",
       "\n",
       "               show  \n",
       "count  21514.000000  \n",
       "mean       0.799015  \n",
       "std        0.400746  \n",
       "min        0.000000  \n",
       "25%        1.000000  \n",
       "50%        1.000000  \n",
       "75%        1.000000  \n",
       "max        1.000000  "
      ]
     },
     "execution_count": 18,
     "metadata": {},
     "output_type": "execute_result"
    }
   ],
   "source": [
    "df.describe()"
   ]
  },
  {
   "cell_type": "code",
   "execution_count": 19,
   "id": "87dc5b37",
   "metadata": {},
   "outputs": [
    {
     "name": "stdout",
     "output_type": "stream",
     "text": [
      "<class 'pandas.core.frame.DataFrame'>\n",
      "Int64Index: 21514 entries, 0 to 21513\n",
      "Data columns (total 15 columns):\n",
      " #   Column          Non-Null Count  Dtype              \n",
      "---  ------          --------------  -----              \n",
      " 0   patientid       21514 non-null  int64              \n",
      " 1   appointmentid   21514 non-null  int64              \n",
      " 2   gender          21514 non-null  object             \n",
      " 3   day_diff        21514 non-null  int8               \n",
      " 4   scheduledday    21514 non-null  datetime64[ns, UTC]\n",
      " 5   appointmentday  21514 non-null  datetime64[ns, UTC]\n",
      " 6   age             21514 non-null  int8               \n",
      " 7   neighbourhood   21514 non-null  object             \n",
      " 8   scholarship     21514 non-null  int8               \n",
      " 9   hipertension    21514 non-null  int8               \n",
      " 10  diabetes        21514 non-null  int8               \n",
      " 11  alcoholism      21514 non-null  int8               \n",
      " 12  handcap         21514 non-null  int8               \n",
      " 13  sms_received    21514 non-null  int8               \n",
      " 14  show            21514 non-null  int64              \n",
      "dtypes: datetime64[ns, UTC](2), int64(3), int8(8), object(2)\n",
      "memory usage: 1.5+ MB\n"
     ]
    }
   ],
   "source": [
    "df.info()"
   ]
  },
  {
   "cell_type": "markdown",
   "id": "4ed5259c",
   "metadata": {},
   "source": [
    "Yes! Now that we have finally finished the process of data cleaning and transformation and made sure that the data is valide, we will proceed now to the intressting part. **The Exploratory Data Analysis!**"
   ]
  },
  {
   "cell_type": "markdown",
   "id": "d01b6a4b",
   "metadata": {},
   "source": [
    "## Analyze: Explore, visualize, and analyze the data\n",
    "\n",
    "The analyze phase is all about finding patterns, relationships, and trends in the data. In order to dive deep into the data and extract the insights that will answer our question, we need to sort, filter, and aggregate the data and with the help of visualization tools and charts we will be able to easly derive the needed information.\n",
    "\n",
    "We will start with basic calculation of the show ratio to see the percentage of the show / no-show and see after if we can find any correlations in the data."
   ]
  },
  {
   "cell_type": "code",
   "execution_count": 20,
   "id": "3f1df11e",
   "metadata": {},
   "outputs": [
    {
     "name": "stdout",
     "output_type": "stream",
     "text": [
      "The count of unique values in the show column:\n",
      " 1    17190\n",
      "0     4324\n",
      "Name: show, dtype: int64\n"
     ]
    },
    {
     "data": {
      "text/plain": [
       "count    21514.000000\n",
       "mean         0.799015\n",
       "std          0.400746\n",
       "min          0.000000\n",
       "25%          1.000000\n",
       "50%          1.000000\n",
       "75%          1.000000\n",
       "max          1.000000\n",
       "Name: show, dtype: float64"
      ]
     },
     "execution_count": 20,
     "metadata": {},
     "output_type": "execute_result"
    }
   ],
   "source": [
    "#Let's first have a statistical summary of the show variable\n",
    "n = df['show'].value_counts()\n",
    "print(\"The count of unique values in the show column:\\n\", n)\n",
    "df['show'].describe()"
   ]
  },
  {
   "cell_type": "code",
   "execution_count": 21,
   "id": "e47457ce",
   "metadata": {},
   "outputs": [],
   "source": [
    "#We define a plot_ratio function to plot the show percentage in relation to other variables\n",
    "def plot_ratio(x):\n",
    "    df.groupby(x).show.mean().plot(kind='bar',edgecolor='black').set_ylabel('Ratio of show');\n",
    "    display(df.groupby(x)[['show']].mean())\n",
    "    plt.legend()"
   ]
  },
  {
   "cell_type": "markdown",
   "id": "0b1050ad",
   "metadata": {},
   "source": [
    "Let's see the percentage of patients who did not show for their appointment and those who did."
   ]
  },
  {
   "cell_type": "code",
   "execution_count": 22,
   "id": "8c9a2d75",
   "metadata": {},
   "outputs": [
    {
     "name": "stdout",
     "output_type": "stream",
     "text": [
      "The percentage of patients who didn't show up for their appointment is 20.1 %\n"
     ]
    },
    {
     "data": {
      "image/png": "[encoded data removed]",
      "text/plain": [
       "<Figure size 600x400 with 1 Axes>"
      ]
     },
     "metadata": {
      "needs_background": "light"
     },
     "output_type": "display_data"
    }
   ],
   "source": [
    "# percentage of show and no show\n",
    "print(f\"The percentage of patients who didn't show up for their appointment is { round((1-df.show.mean())*100, 2) } %\" )\n",
    "\n",
    "no_show_ratio = len(df[df.show==0]) / len(df.show)\n",
    "show_ratio = len(df[df.show==1]) / len(df.show)\n",
    "\n",
    "plt.figure(figsize=(6,4), dpi=100)\n",
    "plt.bar(['show','no show'], [show_ratio*100, no_show_ratio*100], color=['g','r']);\n",
    "plt.title('Percentage of patients who \"did\" and \"did not\" attend their appointments', fontsize='x-large');\n",
    "plt.ylabel('Percentage', fontsize='x-large');\n",
    "plt.xlabel('show or no-show', fontsize='x-large');\n",
    "#display(df.groupby('show')[['show']].count())"
   ]
  },
  {
   "cell_type": "markdown",
   "id": "80b5bfe7",
   "metadata": {},
   "source": [
    "Let's try a pie chart! "
   ]
  },
  {
   "cell_type": "code",
   "execution_count": 23,
   "id": "d968e658",
   "metadata": {},
   "outputs": [
    {
     "data": {
      "text/plain": [
       "<matplotlib.legend.Legend at 0x19793d8b640>"
      ]
     },
     "execution_count": 23,
     "metadata": {},
     "output_type": "execute_result"
    },
    {
     "data": {
      "image/png": "[encoded data removed]",
      "text/plain": [
       "<Figure size 600x400 with 1 Axes>"
      ]
     },
     "metadata": {},
     "output_type": "display_data"
    }
   ],
   "source": [
    "plt.figure(figsize=(6,4), dpi=100)\n",
    "\n",
    "df.show.value_counts().plot(kind=\"pie\",\n",
    "                            title='Percentage of patients who \"did\" and \"did not\" attend their appointments',\n",
    "                            shadow=True,\n",
    "                            autopct='%1.1f%%',\n",
    "                            explode=(0, 0.1),\n",
    "                            legend=True).legend([\"show\", \"no show\"])"
   ]
  },
  {
   "cell_type": "markdown",
   "id": "d63bbb6a",
   "metadata": {},
   "source": [
    "#### a) Gender\n",
    "Now let's dig deep and find which factors (variables) have a high impact (correlation) on the \"showing\" and \"not showing\" of partient to their appointments. So first let's check the percentage of \"show\" / \"no_show\" by gender."
   ]
  },
  {
   "cell_type": "code",
   "execution_count": 24,
   "id": "c67ce35a",
   "metadata": {},
   "outputs": [],
   "source": [
    "#We will filter the data using a boolean mask \n",
    "show_msq = (df.show == 1) #boolean masking\n",
    "no_show_msq = (df.show == 0) #boolean masking\n",
    "total_miss = len(df[no_show_msq])\n",
    "\n",
    "total = len(df)"
   ]
  },
  {
   "cell_type": "code",
   "execution_count": 25,
   "id": "02f97cc4",
   "metadata": {},
   "outputs": [],
   "source": [
    "#get the number of patients missing their appointments by gender\n",
    "no_show_gender = df[no_show_msq]['gender'].value_counts()\n",
    "show_gender = df[show_msq]['gender'].value_counts()"
   ]
  },
  {
   "cell_type": "code",
   "execution_count": 26,
   "id": "016476d6",
   "metadata": {},
   "outputs": [],
   "source": [
    "#no_show_gender"
   ]
  },
  {
   "cell_type": "code",
   "execution_count": 27,
   "id": "cd0c3466",
   "metadata": {},
   "outputs": [],
   "source": [
    "#show_gender"
   ]
  },
  {
   "cell_type": "code",
   "execution_count": 28,
   "id": "b3408f91",
   "metadata": {},
   "outputs": [
    {
     "data": {
      "image/png": "[encoded data removed]",
      "text/plain": [
       "<Figure size 800x600 with 2 Axes>"
      ]
     },
     "metadata": {},
     "output_type": "display_data"
    }
   ],
   "source": [
    "fig1 = plt.figure(figsize=(8,6), dpi=100)\n",
    "ax1 = fig1.add_subplot(121)\n",
    "ax2 = fig1.add_subplot(122)\n",
    "\n",
    "no_show_gender.plot(kind='pie',\n",
    "                    title='Percentage of \"no_show\" by gender',\n",
    "                    shadow=True,\n",
    "                    autopct='%1.1f%%',\n",
    "                    explode=(0, 0.1),\n",
    "                    legend=True,\n",
    "                    ax=ax1).legend([\"Female patients\", \"Male patients\"])\n",
    "\n",
    "show_gender.plot(kind='pie',\n",
    "                    title='Percentage of \"show\" by gender',\n",
    "                    shadow=True,\n",
    "                    autopct='%1.1f%%',\n",
    "                    explode=(0, 0.1),\n",
    "                    legend=True,\n",
    "                    ax=ax2).legend([\"Female patients\", \"Male patients\"])\n",
    "\n",
    "\n",
    "plt.show()"
   ]
  },
  {
   "cell_type": "markdown",
   "id": "ebfdf781",
   "metadata": {},
   "source": [
    "Let's try a bar plot."
   ]
  },
  {
   "cell_type": "code",
   "execution_count": 29,
   "id": "66c6229f",
   "metadata": {},
   "outputs": [
    {
     "data": {
      "text/plain": [
       "Text(0.5, 1.0, 'number of patients who did and did not show by gender')"
      ]
     },
     "execution_count": 29,
     "metadata": {},
     "output_type": "execute_result"
    },
    {
     "data": {
      "image/png": "[encoded data removed]",
      "text/plain": [
       "<Figure size 576x432 with 1 Axes>"
      ]
     },
     "metadata": {
      "needs_background": "light"
     },
     "output_type": "display_data"
    }
   ],
   "source": [
    "grp1 = df.groupby(['gender','show']).size().unstack('gender')\n",
    "grp1.plot(kind='bar', figsize=(8,6))\n",
    "plt.xlabel('Show values', fontsize='x-large')\n",
    "plt.ylabel('number of patients', fontsize='x-large')\n",
    "plt.title('number of patients who did and did not show by gender', fontsize='x-large')"
   ]
  },
  {
   "cell_type": "markdown",
   "id": "4b1d4420",
   "metadata": {},
   "source": [
    "So since the percenetage of female patients who did not attend their appointments are noticeably higher than the male patients, can we assume that female patients are more likely to miss their appointments than male patients?"
   ]
  },
  {
   "cell_type": "code",
   "execution_count": 30,
   "id": "ca172065",
   "metadata": {},
   "outputs": [
    {
     "data": {
      "image/png": "[encoded data removed]",
      "text/plain": [
       "<Figure size 600x400 with 1 Axes>"
      ]
     },
     "metadata": {},
     "output_type": "display_data"
    }
   ],
   "source": [
    "plt.figure(figsize=(6,4), dpi=100)\n",
    "df.gender.value_counts(normalize=True).plot(kind='pie',\n",
    "                                            shadow=True,\n",
    "                                            autopct='%1.1f%%',\n",
    "                                            explode=(0, 0.1),\n",
    "                                            legend=True).legend([\"Female patients\", \"Male patients\"])\n",
    "\n",
    "plt.title('Percentage of patients by gender', fontsize='x-large')\n",
    "plt.ylabel('Gender', fontsize='x-large')\n",
    "plt.show()"
   ]
  },
  {
   "cell_type": "markdown",
   "id": "3794c7c0",
   "metadata": {},
   "source": [
    "**=> As we can see this constatation is quite not right since the percentage of female patients are larger than male patients.**"
   ]
  },
  {
   "cell_type": "markdown",
   "id": "ca8292f4",
   "metadata": {},
   "source": [
    "#### b) Scholarship \n",
    "Now let's check whether the patients with a scholarship(§) are more likely to miss their appointment or not. <br>\n",
    "*(§): **Bolsa Família**:  social welfare program of the Government of Brazil.*"
   ]
  },
  {
   "cell_type": "code",
   "execution_count": 31,
   "id": "4e59ddae",
   "metadata": {},
   "outputs": [
    {
     "data": {
      "text/html": [
       "<div>\n",
       "<style scoped>\n",
       "    .dataframe tbody tr th:only-of-type {\n",
       "        vertical-align: middle;\n",
       "    }\n",
       "\n",
       "    .dataframe tbody tr th {\n",
       "        vertical-align: top;\n",
       "    }\n",
       "\n",
       "    .dataframe thead th {\n",
       "        text-align: right;\n",
       "    }\n",
       "</style>\n",
       "<table border=\"1\" class=\"dataframe\">\n",
       "  <thead>\n",
       "    <tr style=\"text-align: right;\">\n",
       "      <th></th>\n",
       "      <th>show</th>\n",
       "    </tr>\n",
       "    <tr>\n",
       "      <th>scholarship</th>\n",
       "      <th></th>\n",
       "    </tr>\n",
       "  </thead>\n",
       "  <tbody>\n",
       "    <tr>\n",
       "      <th>0</th>\n",
       "      <td>0.803252</td>\n",
       "    </tr>\n",
       "    <tr>\n",
       "      <th>1</th>\n",
       "      <td>0.755145</td>\n",
       "    </tr>\n",
       "  </tbody>\n",
       "</table>\n",
       "</div>"
      ],
      "text/plain": [
       "                 show\n",
       "scholarship          \n",
       "0            0.803252\n",
       "1            0.755145"
      ]
     },
     "metadata": {},
     "output_type": "display_data"
    },
    {
     "data": {
      "image/png": "[encoded data removed]",
      "text/plain": [
       "<Figure size 432x288 with 1 Axes>"
      ]
     },
     "metadata": {
      "needs_background": "light"
     },
     "output_type": "display_data"
    }
   ],
   "source": [
    "#what is the percentage of patients missing their appointment by scholarship\n",
    "plot_ratio(\"scholarship\")\n",
    "plt.title('Ratio of show or no-show by scholarship', fontsize='x-large');\n",
    "#df.groupby('scholarship')[['show']].mean()"
   ]
  },
  {
   "cell_type": "code",
   "execution_count": 32,
   "id": "1055a68a",
   "metadata": {},
   "outputs": [
    {
     "data": {
      "text/plain": [
       "Text(0.5, 1.0, 'number of patients with and without scholarship')"
      ]
     },
     "execution_count": 32,
     "metadata": {},
     "output_type": "execute_result"
    },
    {
     "data": {
      "image/png": "[encoded data removed]",
      "text/plain": [
       "<Figure size 576x432 with 1 Axes>"
      ]
     },
     "metadata": {
      "needs_background": "light"
     },
     "output_type": "display_data"
    }
   ],
   "source": [
    "grp2 = df.groupby(['show','scholarship']).size().unstack('scholarship')\n",
    "fig4 = grp2.plot(kind='bar', figsize=(8,6))\n",
    "fig4.set_ylabel('number of patients')\n",
    "fig4.set_title('number of patients with and without scholarship')"
   ]
  },
  {
   "cell_type": "markdown",
   "id": "a396b606",
   "metadata": {},
   "source": [
    "Basing on the second figure we notice that the number of patients with scholarships are highly larger than those who are not. And from the first figure we can also notice that having a scholarship slightly imapcts the attendance rate. <br>\n",
    "\n",
    "**=> Consequently, we can conclude that the patients enrolled in the welfare program may, more or less, impact the attendance rate.**"
   ]
  },
  {
   "cell_type": "markdown",
   "id": "772b876a",
   "metadata": {},
   "source": [
    "#### c) SMS received\n",
    "Next, let's check whether the patients who recieved an sms were more likely to show to their appointments or not."
   ]
  },
  {
   "cell_type": "code",
   "execution_count": 33,
   "id": "21e9b3a5",
   "metadata": {},
   "outputs": [
    {
     "data": {
      "text/html": [
       "<div>\n",
       "<style scoped>\n",
       "    .dataframe tbody tr th:only-of-type {\n",
       "        vertical-align: middle;\n",
       "    }\n",
       "\n",
       "    .dataframe tbody tr th {\n",
       "        vertical-align: top;\n",
       "    }\n",
       "\n",
       "    .dataframe thead th {\n",
       "        text-align: right;\n",
       "    }\n",
       "</style>\n",
       "<table border=\"1\" class=\"dataframe\">\n",
       "  <thead>\n",
       "    <tr style=\"text-align: right;\">\n",
       "      <th></th>\n",
       "      <th>show</th>\n",
       "    </tr>\n",
       "    <tr>\n",
       "      <th>sms_received</th>\n",
       "      <th></th>\n",
       "    </tr>\n",
       "  </thead>\n",
       "  <tbody>\n",
       "    <tr>\n",
       "      <th>0</th>\n",
       "      <td>0.833837</td>\n",
       "    </tr>\n",
       "    <tr>\n",
       "      <th>1</th>\n",
       "      <td>0.720755</td>\n",
       "    </tr>\n",
       "  </tbody>\n",
       "</table>\n",
       "</div>"
      ],
      "text/plain": [
       "                  show\n",
       "sms_received          \n",
       "0             0.833837\n",
       "1             0.720755"
      ]
     },
     "metadata": {},
     "output_type": "display_data"
    },
    {
     "data": {
      "image/png": "[encoded data removed]",
      "text/plain": [
       "<Figure size 432x288 with 1 Axes>"
      ]
     },
     "metadata": {
      "needs_background": "light"
     },
     "output_type": "display_data"
    }
   ],
   "source": [
    "#The percentage of patient who attended their appointment by sms_received\n",
    "plot_ratio(df.sms_received)\n",
    "plt.title('Ratio of show or no-show by sms_received', fontsize='x-large');"
   ]
  },
  {
   "cell_type": "markdown",
   "id": "1c5dc13d",
   "metadata": {},
   "source": [
    "Weirdly, here we notice that the percentage of patients who recieved an sms reminder of their appointments is lower than the patients who did not. Consequently, this finding, although proven by our analysis, is incoherent as the sms reminder service is employed for the goal of increasing the attendance rate. <br>\n",
    "In this case, when encountering and inconsistant finding through the analysis, the analyst may either resort to digging into more data to validate the constatation or consult specific studies and articles about the imapct of sms reminder service on the attendance rate of patients in other sources."
   ]
  },
  {
   "cell_type": "markdown",
   "id": "b50e6228",
   "metadata": {},
   "source": [
    "#### d) Time difference between the scheduling day and appointment day\n",
    "Next, let's take one step further into the analysis and verify whether time difference between the scheduling day and appointment day have an impact on the patients attendance rate"
   ]
  },
  {
   "cell_type": "code",
   "execution_count": 34,
   "id": "0bd756dc",
   "metadata": {},
   "outputs": [],
   "source": [
    "#filter for positive day difference\n",
    "df1 = df[df.day_diff>=0]\n",
    "#df1.day_diff.unique()"
   ]
  },
  {
   "cell_type": "code",
   "execution_count": 38,
   "id": "71c5d37e",
   "metadata": {},
   "outputs": [
    {
     "name": "stdout",
     "output_type": "stream",
     "text": [
      "the propotion of different time difference for patients who missed their appiontments:\n"
     ]
    },
    {
     "data": {
      "text/html": [
       "<div>\n",
       "<style scoped>\n",
       "    .dataframe tbody tr th:only-of-type {\n",
       "        vertical-align: middle;\n",
       "    }\n",
       "\n",
       "    .dataframe tbody tr th {\n",
       "        vertical-align: top;\n",
       "    }\n",
       "\n",
       "    .dataframe thead th {\n",
       "        text-align: right;\n",
       "    }\n",
       "</style>\n",
       "<table border=\"1\" class=\"dataframe\">\n",
       "  <thead>\n",
       "    <tr style=\"text-align: right;\">\n",
       "      <th></th>\n",
       "      <th>day_diff2</th>\n",
       "    </tr>\n",
       "  </thead>\n",
       "  <tbody>\n",
       "    <tr>\n",
       "      <th>after 10 days</th>\n",
       "      <td>43.455134</td>\n",
       "    </tr>\n",
       "    <tr>\n",
       "      <th>after 3 days</th>\n",
       "      <td>31.012951</td>\n",
       "    </tr>\n",
       "    <tr>\n",
       "      <th>in 3 days</th>\n",
       "      <td>19.264570</td>\n",
       "    </tr>\n",
       "    <tr>\n",
       "      <th>sameday</th>\n",
       "      <td>6.267345</td>\n",
       "    </tr>\n",
       "  </tbody>\n",
       "</table>\n",
       "</div>"
      ],
      "text/plain": [
       "               day_diff2\n",
       "after 10 days  43.455134\n",
       "after 3 days   31.012951\n",
       "in 3 days      19.264570\n",
       "sameday         6.267345"
      ]
     },
     "execution_count": 38,
     "metadata": {},
     "output_type": "execute_result"
    },
    {
     "data": {
      "image/png": "[encoded data removed]",
      "text/plain": [
       "<Figure size 576x432 with 1 Axes>"
      ]
     },
     "metadata": {
      "needs_background": "light"
     },
     "output_type": "display_data"
    }
   ],
   "source": [
    "#turn day diff into categorical column Day_diff2\n",
    "bin_edges = [-1, 0 , 3, 10, 179]\n",
    "\n",
    "names = ['sameday', 'in 3 days', 'after 3 days', 'after 10 days']\n",
    "\n",
    "#We use .cut to segment and sort data values into bins\n",
    "df['day_diff2'] = pd.cut(df1.day_diff, bin_edges, labels=names)\n",
    "#filter for no-show records and count values for each category of day_diff2\n",
    "\n",
    "no_show_day_diff = df[no_show_msq].day_diff2.value_counts() / len(df[no_show_msq]) * 100\n",
    "no_show_day_diff.reindex(names).plot(kind='bar', figsize=(8,6), colormap='Accent', rot=45);\n",
    "\n",
    "plt.title('propotion of time difference for no-show appointments', fontsize='x-large');\n",
    "plt.xlabel('days difference between scheduling and appointment', fontsize='x-large',);\n",
    "plt.ylabel('Ratio of no-show', fontsize='x-large');\n",
    "plt.yticks(np.arange(0, 45, step=5))\n",
    "\n",
    "\n",
    "print('the propotion of different time difference for patients who missed their appiontments:')\n",
    "pd.DataFrame(no_show_day_diff)"
   ]
  },
  {
   "cell_type": "markdown",
   "id": "fded9aef",
   "metadata": {},
   "source": [
    "Obviously here we can notice that the percentage of no show highly increases for the appointments scheduled after 3 days of the scheduling day. Consequently, to ensure a high appointment attendance rate, the appointments should be scheduled no later than a 3 days."
   ]
  },
  {
   "cell_type": "markdown",
   "id": "58c00918",
   "metadata": {},
   "source": [
    "#### d) Age\n",
    "How about the patients age? Does the age affects the show/no show rate? <br>\n",
    "Let's check it out."
   ]
  },
  {
   "cell_type": "code",
   "execution_count": 159,
   "id": "766b3637",
   "metadata": {},
   "outputs": [
    {
     "data": {
      "text/html": [
       "<div>\n",
       "<style scoped>\n",
       "    .dataframe tbody tr th:only-of-type {\n",
       "        vertical-align: middle;\n",
       "    }\n",
       "\n",
       "    .dataframe tbody tr th {\n",
       "        vertical-align: top;\n",
       "    }\n",
       "\n",
       "    .dataframe thead th {\n",
       "        text-align: right;\n",
       "    }\n",
       "</style>\n",
       "<table border=\"1\" class=\"dataframe\">\n",
       "  <thead>\n",
       "    <tr style=\"text-align: right;\">\n",
       "      <th></th>\n",
       "      <th>age</th>\n",
       "    </tr>\n",
       "  </thead>\n",
       "  <tbody>\n",
       "    <tr>\n",
       "      <th>count</th>\n",
       "      <td>4324.000000</td>\n",
       "    </tr>\n",
       "    <tr>\n",
       "      <th>mean</th>\n",
       "      <td>33.114246</td>\n",
       "    </tr>\n",
       "    <tr>\n",
       "      <th>std</th>\n",
       "      <td>21.167986</td>\n",
       "    </tr>\n",
       "    <tr>\n",
       "      <th>min</th>\n",
       "      <td>0.000000</td>\n",
       "    </tr>\n",
       "    <tr>\n",
       "      <th>25%</th>\n",
       "      <td>16.000000</td>\n",
       "    </tr>\n",
       "    <tr>\n",
       "      <th>50%</th>\n",
       "      <td>32.000000</td>\n",
       "    </tr>\n",
       "    <tr>\n",
       "      <th>75%</th>\n",
       "      <td>49.000000</td>\n",
       "    </tr>\n",
       "    <tr>\n",
       "      <th>max</th>\n",
       "      <td>98.000000</td>\n",
       "    </tr>\n",
       "  </tbody>\n",
       "</table>\n",
       "</div>"
      ],
      "text/plain": [
       "               age\n",
       "count  4324.000000\n",
       "mean     33.114246\n",
       "std      21.167986\n",
       "min       0.000000\n",
       "25%      16.000000\n",
       "50%      32.000000\n",
       "75%      49.000000\n",
       "max      98.000000"
      ]
     },
     "execution_count": 159,
     "metadata": {},
     "output_type": "execute_result"
    },
    {
     "data": {
      "image/png": "[encoded data removed]",
      "text/plain": [
       "<Figure size 576x432 with 1 Axes>"
      ]
     },
     "metadata": {
      "needs_background": "light"
     },
     "output_type": "display_data"
    }
   ],
   "source": [
    "#plot the histograns of age for patients who showed up and who didn't\n",
    "df[show_msq].age.hist(alpha=0.5, label='show',stacked=True, figsize=(8,6))\n",
    "df[no_show_msq].age.hist(alpha=0.5, label='no-show',stacked=True, figsize=(8,6))\n",
    "\n",
    "plt.legend()\n",
    "plt.xlabel('age', fontsize='x-large')\n",
    "plt.ylabel('frequency', fontsize='x-large')\n",
    "plt.yticks(np.arange(0, 2750, step=250))\n",
    "plt.title('Histogram of age values for patients who showed up or missed their appointment', fontsize='x-large')\n",
    "\n",
    "#a statistical summary of the age variable\n",
    "df[no_show_msq][['age']].describe()"
   ]
  },
  {
   "cell_type": "markdown",
   "id": "d70baa90",
   "metadata": {},
   "source": [
    "There is no evidence for whether the age impacts the attendance ratio. We can only notice that the patients between the age of 20 and 40 tend to slightly miss their appointments."
   ]
  },
  {
   "cell_type": "code",
   "execution_count": 160,
   "id": "c8af4ffd",
   "metadata": {},
   "outputs": [
    {
     "data": {
      "text/html": [
       "<div>\n",
       "<style scoped>\n",
       "    .dataframe tbody tr th:only-of-type {\n",
       "        vertical-align: middle;\n",
       "    }\n",
       "\n",
       "    .dataframe tbody tr th {\n",
       "        vertical-align: top;\n",
       "    }\n",
       "\n",
       "    .dataframe thead th {\n",
       "        text-align: right;\n",
       "    }\n",
       "</style>\n",
       "<table border=\"1\" class=\"dataframe\">\n",
       "  <thead>\n",
       "    <tr style=\"text-align: right;\">\n",
       "      <th></th>\n",
       "      <th>neighbourhood</th>\n",
       "    </tr>\n",
       "  </thead>\n",
       "  <tbody>\n",
       "    <tr>\n",
       "      <th>MORADA DE CAMBURI</th>\n",
       "      <td>0.333333</td>\n",
       "    </tr>\n",
       "    <tr>\n",
       "      <th>SANTOS DUMONT</th>\n",
       "      <td>0.327586</td>\n",
       "    </tr>\n",
       "    <tr>\n",
       "      <th>SANTA HELENA</th>\n",
       "      <td>0.305556</td>\n",
       "    </tr>\n",
       "    <tr>\n",
       "      <th>ANTÔNIO HONÓRIO</th>\n",
       "      <td>0.300000</td>\n",
       "    </tr>\n",
       "    <tr>\n",
       "      <th>ILHA DO PRÍNCIPE</th>\n",
       "      <td>0.298289</td>\n",
       "    </tr>\n",
       "    <tr>\n",
       "      <th>...</th>\n",
       "      <td>...</td>\n",
       "    </tr>\n",
       "    <tr>\n",
       "      <th>SANTA MARTHA</th>\n",
       "      <td>0.118694</td>\n",
       "    </tr>\n",
       "    <tr>\n",
       "      <th>JABOUR</th>\n",
       "      <td>0.105263</td>\n",
       "    </tr>\n",
       "    <tr>\n",
       "      <th>MÁRIO CYPRESTE</th>\n",
       "      <td>0.073770</td>\n",
       "    </tr>\n",
       "    <tr>\n",
       "      <th>ILHA DO FRADE</th>\n",
       "      <td>NaN</td>\n",
       "    </tr>\n",
       "    <tr>\n",
       "      <th>PONTAL DE CAMBURI</th>\n",
       "      <td>NaN</td>\n",
       "    </tr>\n",
       "  </tbody>\n",
       "</table>\n",
       "<p>78 rows × 1 columns</p>\n",
       "</div>"
      ],
      "text/plain": [
       "                   neighbourhood\n",
       "MORADA DE CAMBURI       0.333333\n",
       "SANTOS DUMONT           0.327586\n",
       "SANTA HELENA            0.305556\n",
       "ANTÔNIO HONÓRIO         0.300000\n",
       "ILHA DO PRÍNCIPE        0.298289\n",
       "...                          ...\n",
       "SANTA MARTHA            0.118694\n",
       "JABOUR                  0.105263\n",
       "MÁRIO CYPRESTE          0.073770\n",
       "ILHA DO FRADE                NaN\n",
       "PONTAL DE CAMBURI            NaN\n",
       "\n",
       "[78 rows x 1 columns]"
      ]
     },
     "execution_count": 160,
     "metadata": {},
     "output_type": "execute_result"
    }
   ],
   "source": [
    "#get the number of records for each neighbourhood\n",
    "rec_neigh = df['neighbourhood'].value_counts()\n",
    "\n",
    "#get the number of records for patients missing their appointments for each neighbourhood\n",
    "rec_neigh_no_show = df[no_show_msq].neighbourhood.value_counts()\n",
    "\n",
    "#percentage of patients missing their appointments for every neighbourhood\n",
    "rec_neigh_no_show_percentage = rec_neigh_no_show / rec_neigh\n",
    "pd.DataFrame(rec_neigh_no_show_percentage.sort_values(axis=0, ascending=False))"
   ]
  },
  {
   "cell_type": "code",
   "execution_count": 161,
   "id": "c63fd4de",
   "metadata": {},
   "outputs": [
    {
     "data": {
      "text/html": [
       "<div>\n",
       "<style scoped>\n",
       "    .dataframe tbody tr th:only-of-type {\n",
       "        vertical-align: middle;\n",
       "    }\n",
       "\n",
       "    .dataframe tbody tr th {\n",
       "        vertical-align: top;\n",
       "    }\n",
       "\n",
       "    .dataframe thead th {\n",
       "        text-align: right;\n",
       "    }\n",
       "</style>\n",
       "<table border=\"1\" class=\"dataframe\">\n",
       "  <thead>\n",
       "    <tr style=\"text-align: right;\">\n",
       "      <th></th>\n",
       "      <th>neighbourhood</th>\n",
       "      <th>percentage</th>\n",
       "    </tr>\n",
       "  </thead>\n",
       "  <tbody>\n",
       "    <tr>\n",
       "      <th>ANDORINHAS</th>\n",
       "      <td>0.267296</td>\n",
       "      <td>NaN</td>\n",
       "    </tr>\n",
       "    <tr>\n",
       "      <th>ANTÔNIO HONÓRIO</th>\n",
       "      <td>0.300000</td>\n",
       "      <td>NaN</td>\n",
       "    </tr>\n",
       "    <tr>\n",
       "      <th>ARIOVALDO FAVALESSA</th>\n",
       "      <td>0.205882</td>\n",
       "      <td>NaN</td>\n",
       "    </tr>\n",
       "    <tr>\n",
       "      <th>BARRO VERMELHO</th>\n",
       "      <td>0.274510</td>\n",
       "      <td>NaN</td>\n",
       "    </tr>\n",
       "    <tr>\n",
       "      <th>BELA VISTA</th>\n",
       "      <td>0.213675</td>\n",
       "      <td>NaN</td>\n",
       "    </tr>\n",
       "  </tbody>\n",
       "</table>\n",
       "</div>"
      ],
      "text/plain": [
       "                     neighbourhood percentage\n",
       "ANDORINHAS                0.267296        NaN\n",
       "ANTÔNIO HONÓRIO           0.300000        NaN\n",
       "ARIOVALDO FAVALESSA       0.205882        NaN\n",
       "BARRO VERMELHO            0.274510        NaN\n",
       "BELA VISTA                0.213675        NaN"
      ]
     },
     "execution_count": 161,
     "metadata": {},
     "output_type": "execute_result"
    }
   ],
   "source": [
    "rec_neigh_no_show = pd.DataFrame(rec_neigh_no_show_percentage[0:10], columns=['neighbourhood', 'percentage'])\n",
    "rec_neigh_no_show.head()\n"
   ]
  },
  {
   "cell_type": "code",
   "execution_count": 162,
   "id": "eb36ae39",
   "metadata": {},
   "outputs": [
    {
     "data": {
      "text/html": [
       "<div>\n",
       "<style scoped>\n",
       "    .dataframe tbody tr th:only-of-type {\n",
       "        vertical-align: middle;\n",
       "    }\n",
       "\n",
       "    .dataframe tbody tr th {\n",
       "        vertical-align: top;\n",
       "    }\n",
       "\n",
       "    .dataframe thead th {\n",
       "        text-align: right;\n",
       "    }\n",
       "</style>\n",
       "<table border=\"1\" class=\"dataframe\">\n",
       "  <thead>\n",
       "    <tr style=\"text-align: right;\">\n",
       "      <th></th>\n",
       "      <th>neighbourhood</th>\n",
       "      <th>percentage</th>\n",
       "    </tr>\n",
       "  </thead>\n",
       "  <tbody>\n",
       "    <tr>\n",
       "      <th>0</th>\n",
       "      <td>ANTÔNIO HONÓRIO</td>\n",
       "      <td>0.300000</td>\n",
       "    </tr>\n",
       "    <tr>\n",
       "      <th>1</th>\n",
       "      <td>BARRO VERMELHO</td>\n",
       "      <td>0.274510</td>\n",
       "    </tr>\n",
       "    <tr>\n",
       "      <th>2</th>\n",
       "      <td>ANDORINHAS</td>\n",
       "      <td>0.267296</td>\n",
       "    </tr>\n",
       "    <tr>\n",
       "      <th>3</th>\n",
       "      <td>BENTO FERREIRA</td>\n",
       "      <td>0.215909</td>\n",
       "    </tr>\n",
       "    <tr>\n",
       "      <th>4</th>\n",
       "      <td>BELA VISTA</td>\n",
       "      <td>0.213675</td>\n",
       "    </tr>\n",
       "  </tbody>\n",
       "</table>\n",
       "</div>"
      ],
      "text/plain": [
       "     neighbourhood  percentage\n",
       "0  ANTÔNIO HONÓRIO    0.300000\n",
       "1   BARRO VERMELHO    0.274510\n",
       "2       ANDORINHAS    0.267296\n",
       "3   BENTO FERREIRA    0.215909\n",
       "4       BELA VISTA    0.213675"
      ]
     },
     "execution_count": 162,
     "metadata": {},
     "output_type": "execute_result"
    }
   ],
   "source": [
    "rec_neigh_no_show['percentage'] = rec_neigh_no_show['neighbourhood']\n",
    "rec_neigh_no_show['neighbourhood'] = rec_neigh_no_show.index\n",
    "rec_neigh_no_show.sort_values(by=['percentage'], ascending=False, inplace=True)\n",
    "rec_neigh_no_show.reset_index(drop=True, inplace=True)\n",
    "rec_neigh_no_show.head()"
   ]
  },
  {
   "cell_type": "code",
   "execution_count": 163,
   "id": "7ef78c7f",
   "metadata": {},
   "outputs": [
    {
     "data": {
      "text/plain": [
       "neighbourhood    0.0\n",
       "percentage       0.0\n",
       "dtype: float64"
      ]
     },
     "execution_count": 163,
     "metadata": {},
     "output_type": "execute_result"
    }
   ],
   "source": [
    "rest = rec_neigh_no_show.iloc[10:]\n",
    "rest.sum()"
   ]
  },
  {
   "cell_type": "code",
   "execution_count": 164,
   "id": "e11918a6",
   "metadata": {},
   "outputs": [
    {
     "data": {
      "text/plain": [
       "(array([0, 1, 2, 3, 4, 5, 6, 7, 8, 9]),\n",
       " [Text(0, 0, 'ANTÔNIO HONÓRIO'),\n",
       "  Text(1, 0, 'BARRO VERMELHO'),\n",
       "  Text(2, 0, 'ANDORINHAS'),\n",
       "  Text(3, 0, 'BENTO FERREIRA'),\n",
       "  Text(4, 0, 'BELA VISTA'),\n",
       "  Text(5, 0, 'CARATOÍRA'),\n",
       "  Text(6, 0, 'ARIOVALDO FAVALESSA'),\n",
       "  Text(7, 0, 'BOA VISTA'),\n",
       "  Text(8, 0, 'BONFIM'),\n",
       "  Text(9, 0, 'CENTRO')])"
      ]
     },
     "execution_count": 164,
     "metadata": {},
     "output_type": "execute_result"
    },
    {
     "data": {
      "image/png": "[encoded data removed]",
      "text/plain": [
       "<Figure size 576x432 with 1 Axes>"
      ]
     },
     "metadata": {
      "needs_background": "light"
     },
     "output_type": "display_data"
    }
   ],
   "source": [
    "plt.figure(figsize=(8,6))\n",
    "sns.barplot(x='neighbourhood', y='percentage', data=rec_neigh_no_show)\n",
    "plt.xticks(rotation=45)"
   ]
  },
  {
   "cell_type": "markdown",
   "id": "e034d65b",
   "metadata": {},
   "source": [
    "Here we selected the top 10 neighborhoods with the highest no show rate and we notice that in the top 3 ranks we have \"Antonio Honorio\", \"Barro Vermelho\", and \"Andorinhas\" and consequently we can conclude that these neighborhoods are either at a very long distance from the clinic or that there is no transporation line connecting these places with the clinic.\n",
    "\n",
    "## Conclusion\n",
    "\n",
    "Finally, and a after a thorough analysis of the Medical Appointment Data, we successfully found the insights that we can use to elaborate recommendations and even an entire action plan to improve the attendance rate of the patients. Either by optimizing the sms reminder service, schedule appointments in the first 4 days, or reach out to public transporation service to provide adequate transportation. \n",
    "\n",
    "The combination of analytical thinking technical mastery of analysis tools can turn data into usefull insights and drive solution for unasked questions."
   ]
  },
  {
   "cell_type": "code",
   "execution_count": null,
   "id": "81fab896",
   "metadata": {},
   "outputs": [],
   "source": []
  }
 ],
 "metadata": {
  "kernelspec": {
   "display_name": "Python 3 (ipykernel)",
   "language": "python",
   "name": "python3"
  },
  "language_info": {
   "codemirror_mode": {
    "name": "ipython",
    "version": 3
   },
   "file_extension": ".py",
   "mimetype": "text/x-python",
   "name": "python",
   "nbconvert_exporter": "python",
   "pygments_lexer": "ipython3",
   "version": "3.8.13"
  }
 },
 "nbformat": 4,
 "nbformat_minor": 5
}

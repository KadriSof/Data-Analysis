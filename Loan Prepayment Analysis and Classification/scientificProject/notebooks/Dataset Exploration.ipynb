{
 "cells": [
  {
   "metadata": {},
   "cell_type": "markdown",
   "source": [
    "## Dataset Exploration:\n",
    "1. Importing the dataset"
   ],
   "id": "9d86d8de5afb0d86"
  },
  {
   "metadata": {
    "ExecuteTime": {
     "end_time": "2024-05-16T19:18:27.159402Z",
     "start_time": "2024-05-16T19:18:26.974799Z"
    }
   },
   "cell_type": "code",
   "source": [
    "# IMPORTS:\n",
    "import os\n",
    "import pandas as pd\n",
    "import numpy as np"
   ],
   "id": "initial_id",
   "outputs": [],
   "execution_count": 4
  },
  {
   "metadata": {
    "ExecuteTime": {
     "end_time": "2024-05-16T19:25:37.705616Z",
     "start_time": "2024-05-16T19:24:07.900922Z"
    }
   },
   "cell_type": "code",
   "source": [
    "raw_dataset = pd.read_excel(\"../data/DBF.xlsx\")\n",
    "raw_dataset.head()"
   ],
   "id": "22bdb7c6ae907103",
   "outputs": [
    {
     "data": {
      "text/plain": [
       "   loan_amnt  term  int_rate grade  emp_length home_ownership  annual_inc  \\\n",
       "0      12800    36    0.1199     C           6       MORTGAGE     53000.0   \n",
       "1       5625    36    0.1825     D          10       MORTGAGE     53328.0   \n",
       "2      12025    36    0.1446     C           2       MORTGAGE     32000.0   \n",
       "3       9000    36    0.1531     C           9           RENT     52000.0   \n",
       "4       8000    36    0.1075     B           5           RENT     73000.0   \n",
       "\n",
       "   loan_status             purpose     dti     T  \n",
       "0            1         credit_card  0.2099  1095  \n",
       "1            1    home_improvement  0.1051  1095  \n",
       "2            1  debt_consolidation  0.1988  1095  \n",
       "3            1  debt_consolidation  0.1886  1095  \n",
       "4            1  debt_consolidation  0.1085  1095  "
      ],
      "text/html": [
       "<div>\n",
       "<style scoped>\n",
       "    .dataframe tbody tr th:only-of-type {\n",
       "        vertical-align: middle;\n",
       "    }\n",
       "\n",
       "    .dataframe tbody tr th {\n",
       "        vertical-align: top;\n",
       "    }\n",
       "\n",
       "    .dataframe thead th {\n",
       "        text-align: right;\n",
       "    }\n",
       "</style>\n",
       "<table border=\"1\" class=\"dataframe\">\n",
       "  <thead>\n",
       "    <tr style=\"text-align: right;\">\n",
       "      <th></th>\n",
       "      <th>loan_amnt</th>\n",
       "      <th>term</th>\n",
       "      <th>int_rate</th>\n",
       "      <th>grade</th>\n",
       "      <th>emp_length</th>\n",
       "      <th>home_ownership</th>\n",
       "      <th>annual_inc</th>\n",
       "      <th>loan_status</th>\n",
       "      <th>purpose</th>\n",
       "      <th>dti</th>\n",
       "      <th>T</th>\n",
       "    </tr>\n",
       "  </thead>\n",
       "  <tbody>\n",
       "    <tr>\n",
       "      <th>0</th>\n",
       "      <td>12800</td>\n",
       "      <td>36</td>\n",
       "      <td>0.1199</td>\n",
       "      <td>C</td>\n",
       "      <td>6</td>\n",
       "      <td>MORTGAGE</td>\n",
       "      <td>53000.0</td>\n",
       "      <td>1</td>\n",
       "      <td>credit_card</td>\n",
       "      <td>0.2099</td>\n",
       "      <td>1095</td>\n",
       "    </tr>\n",
       "    <tr>\n",
       "      <th>1</th>\n",
       "      <td>5625</td>\n",
       "      <td>36</td>\n",
       "      <td>0.1825</td>\n",
       "      <td>D</td>\n",
       "      <td>10</td>\n",
       "      <td>MORTGAGE</td>\n",
       "      <td>53328.0</td>\n",
       "      <td>1</td>\n",
       "      <td>home_improvement</td>\n",
       "      <td>0.1051</td>\n",
       "      <td>1095</td>\n",
       "    </tr>\n",
       "    <tr>\n",
       "      <th>2</th>\n",
       "      <td>12025</td>\n",
       "      <td>36</td>\n",
       "      <td>0.1446</td>\n",
       "      <td>C</td>\n",
       "      <td>2</td>\n",
       "      <td>MORTGAGE</td>\n",
       "      <td>32000.0</td>\n",
       "      <td>1</td>\n",
       "      <td>debt_consolidation</td>\n",
       "      <td>0.1988</td>\n",
       "      <td>1095</td>\n",
       "    </tr>\n",
       "    <tr>\n",
       "      <th>3</th>\n",
       "      <td>9000</td>\n",
       "      <td>36</td>\n",
       "      <td>0.1531</td>\n",
       "      <td>C</td>\n",
       "      <td>9</td>\n",
       "      <td>RENT</td>\n",
       "      <td>52000.0</td>\n",
       "      <td>1</td>\n",
       "      <td>debt_consolidation</td>\n",
       "      <td>0.1886</td>\n",
       "      <td>1095</td>\n",
       "    </tr>\n",
       "    <tr>\n",
       "      <th>4</th>\n",
       "      <td>8000</td>\n",
       "      <td>36</td>\n",
       "      <td>0.1075</td>\n",
       "      <td>B</td>\n",
       "      <td>5</td>\n",
       "      <td>RENT</td>\n",
       "      <td>73000.0</td>\n",
       "      <td>1</td>\n",
       "      <td>debt_consolidation</td>\n",
       "      <td>0.1085</td>\n",
       "      <td>1095</td>\n",
       "    </tr>\n",
       "  </tbody>\n",
       "</table>\n",
       "</div>"
      ]
     },
     "execution_count": 8,
     "metadata": {},
     "output_type": "execute_result"
    }
   ],
   "execution_count": 8
  },
  {
   "metadata": {},
   "cell_type": "markdown",
   "source": [
    "### **Columns Overview**\n",
    "1. loan_amnt [Xi]: Loan amount requested by the borrower.\n",
    "2. term: The term of the loan in months (36 or 60).\n",
    "3. int_rate: Interest rate on the loan.\n",
    "4. grade: Grade assigned to the loan (A, B, C, D, etc.), typically based on creditworthiness.\n",
    "5. emp_length: Number of years the borrower has been employed.\n",
    "6. home_ownership: Home ownership status (e.g., MORTGAGE, RENT, OWN).\n",
    "7. annual_inc: Annual income of the borrower.\n",
    "8. loan_status: Loan status (1 indicates current loans in this sample).\n",
    "9. purpose: Purpose of the loan (e.g., credit_card, home_improvement, debt_consolidation).\n",
    "10. dti: Debt-to-income ratio.\n",
    "11. T: Loan term in days (possibly derived from the 'term' column)."
   ],
   "id": "ce1e4666ee14c096"
  },
  {
   "metadata": {
    "ExecuteTime": {
     "end_time": "2024-05-16T19:32:03.514050Z",
     "start_time": "2024-05-16T19:32:03.388837Z"
    }
   },
   "cell_type": "code",
   "source": "raw_dataset.info()",
   "id": "1b47851db13f7504",
   "outputs": [
    {
     "name": "stdout",
     "output_type": "stream",
     "text": [
      "<class 'pandas.core.frame.DataFrame'>\n",
      "RangeIndex: 527428 entries, 0 to 527427\n",
      "Data columns (total 11 columns):\n",
      " #   Column          Non-Null Count   Dtype  \n",
      "---  ------          --------------   -----  \n",
      " 0   loan_amnt       527428 non-null  int64  \n",
      " 1   term            527428 non-null  int64  \n",
      " 2   int_rate        527428 non-null  float64\n",
      " 3   grade           527428 non-null  object \n",
      " 4   emp_length      527428 non-null  int64  \n",
      " 5   home_ownership  527428 non-null  object \n",
      " 6   annual_inc      527428 non-null  float64\n",
      " 7   loan_status     527428 non-null  int64  \n",
      " 8   purpose         527428 non-null  object \n",
      " 9   dti             527428 non-null  float64\n",
      " 10  T               527428 non-null  int64  \n",
      "dtypes: float64(3), int64(5), object(3)\n",
      "memory usage: 44.3+ MB\n"
     ]
    }
   ],
   "execution_count": 9
  },
  {
   "metadata": {},
   "cell_type": "markdown",
   "source": "",
   "id": "4c1444560b39459"
  },
  {
   "metadata": {
    "ExecuteTime": {
     "end_time": "2024-05-16T19:42:17.004805Z",
     "start_time": "2024-05-16T19:42:16.754906Z"
    }
   },
   "cell_type": "code",
   "source": "raw_dataset.describe(exclude='object').transpose()",
   "id": "dbde2857c7c1687a",
   "outputs": [
    {
     "data": {
      "text/plain": [
       "                count          mean           std        min         25%  \\\n",
       "loan_amnt    527428.0  14798.364327   9334.435778  1000.0000   7500.0000   \n",
       "term         527428.0     41.641202     10.176733    36.0000     36.0000   \n",
       "int_rate     527428.0      0.134604      0.053293     0.0531      0.0975   \n",
       "emp_length   527428.0      6.009531      3.606430     1.0000      2.0000   \n",
       "annual_inc   527428.0  81105.460820  79271.565072    32.0000  50000.0000   \n",
       "loan_status  527428.0      0.744828      0.435958     0.0000      0.0000   \n",
       "dti          527428.0      0.185749      0.117212    -0.0100      0.1179   \n",
       "T            527428.0   1267.225739    309.797846  1095.0000   1095.0000   \n",
       "\n",
       "                    50%         75%           max  \n",
       "loan_amnt    12000.0000  20000.0000  4.000000e+04  \n",
       "term            36.0000     36.0000  6.000000e+01  \n",
       "int_rate         0.1274      0.1602  3.099000e-01  \n",
       "emp_length       6.0000     10.0000  1.000000e+01  \n",
       "annual_inc   69000.0000  96000.0000  1.099920e+07  \n",
       "loan_status      1.0000      1.0000  1.000000e+00  \n",
       "dti              0.1775      0.2445  9.990000e+00  \n",
       "T             1096.0000   1096.0000  1.827000e+03  "
      ],
      "text/html": [
       "<div>\n",
       "<style scoped>\n",
       "    .dataframe tbody tr th:only-of-type {\n",
       "        vertical-align: middle;\n",
       "    }\n",
       "\n",
       "    .dataframe tbody tr th {\n",
       "        vertical-align: top;\n",
       "    }\n",
       "\n",
       "    .dataframe thead th {\n",
       "        text-align: right;\n",
       "    }\n",
       "</style>\n",
       "<table border=\"1\" class=\"dataframe\">\n",
       "  <thead>\n",
       "    <tr style=\"text-align: right;\">\n",
       "      <th></th>\n",
       "      <th>count</th>\n",
       "      <th>mean</th>\n",
       "      <th>std</th>\n",
       "      <th>min</th>\n",
       "      <th>25%</th>\n",
       "      <th>50%</th>\n",
       "      <th>75%</th>\n",
       "      <th>max</th>\n",
       "    </tr>\n",
       "  </thead>\n",
       "  <tbody>\n",
       "    <tr>\n",
       "      <th>loan_amnt</th>\n",
       "      <td>527428.0</td>\n",
       "      <td>14798.364327</td>\n",
       "      <td>9334.435778</td>\n",
       "      <td>1000.0000</td>\n",
       "      <td>7500.0000</td>\n",
       "      <td>12000.0000</td>\n",
       "      <td>20000.0000</td>\n",
       "      <td>4.000000e+04</td>\n",
       "    </tr>\n",
       "    <tr>\n",
       "      <th>term</th>\n",
       "      <td>527428.0</td>\n",
       "      <td>41.641202</td>\n",
       "      <td>10.176733</td>\n",
       "      <td>36.0000</td>\n",
       "      <td>36.0000</td>\n",
       "      <td>36.0000</td>\n",
       "      <td>36.0000</td>\n",
       "      <td>6.000000e+01</td>\n",
       "    </tr>\n",
       "    <tr>\n",
       "      <th>int_rate</th>\n",
       "      <td>527428.0</td>\n",
       "      <td>0.134604</td>\n",
       "      <td>0.053293</td>\n",
       "      <td>0.0531</td>\n",
       "      <td>0.0975</td>\n",
       "      <td>0.1274</td>\n",
       "      <td>0.1602</td>\n",
       "      <td>3.099000e-01</td>\n",
       "    </tr>\n",
       "    <tr>\n",
       "      <th>emp_length</th>\n",
       "      <td>527428.0</td>\n",
       "      <td>6.009531</td>\n",
       "      <td>3.606430</td>\n",
       "      <td>1.0000</td>\n",
       "      <td>2.0000</td>\n",
       "      <td>6.0000</td>\n",
       "      <td>10.0000</td>\n",
       "      <td>1.000000e+01</td>\n",
       "    </tr>\n",
       "    <tr>\n",
       "      <th>annual_inc</th>\n",
       "      <td>527428.0</td>\n",
       "      <td>81105.460820</td>\n",
       "      <td>79271.565072</td>\n",
       "      <td>32.0000</td>\n",
       "      <td>50000.0000</td>\n",
       "      <td>69000.0000</td>\n",
       "      <td>96000.0000</td>\n",
       "      <td>1.099920e+07</td>\n",
       "    </tr>\n",
       "    <tr>\n",
       "      <th>loan_status</th>\n",
       "      <td>527428.0</td>\n",
       "      <td>0.744828</td>\n",
       "      <td>0.435958</td>\n",
       "      <td>0.0000</td>\n",
       "      <td>0.0000</td>\n",
       "      <td>1.0000</td>\n",
       "      <td>1.0000</td>\n",
       "      <td>1.000000e+00</td>\n",
       "    </tr>\n",
       "    <tr>\n",
       "      <th>dti</th>\n",
       "      <td>527428.0</td>\n",
       "      <td>0.185749</td>\n",
       "      <td>0.117212</td>\n",
       "      <td>-0.0100</td>\n",
       "      <td>0.1179</td>\n",
       "      <td>0.1775</td>\n",
       "      <td>0.2445</td>\n",
       "      <td>9.990000e+00</td>\n",
       "    </tr>\n",
       "    <tr>\n",
       "      <th>T</th>\n",
       "      <td>527428.0</td>\n",
       "      <td>1267.225739</td>\n",
       "      <td>309.797846</td>\n",
       "      <td>1095.0000</td>\n",
       "      <td>1095.0000</td>\n",
       "      <td>1096.0000</td>\n",
       "      <td>1096.0000</td>\n",
       "      <td>1.827000e+03</td>\n",
       "    </tr>\n",
       "  </tbody>\n",
       "</table>\n",
       "</div>"
      ]
     },
     "execution_count": 13,
     "metadata": {},
     "output_type": "execute_result"
    }
   ],
   "execution_count": 13
  },
  {
   "metadata": {
    "ExecuteTime": {
     "end_time": "2024-05-16T19:40:08.131348Z",
     "start_time": "2024-05-16T19:40:07.959363Z"
    }
   },
   "cell_type": "code",
   "source": "raw_dataset.describe(include='object').transpose()",
   "id": "d806ab9eef49cacf",
   "outputs": [
    {
     "data": {
      "text/plain": [
       "                 count unique                 top    freq\n",
       "grade           527428      7                   C  160021\n",
       "home_ownership  527428      5            MORTGAGE  259852\n",
       "purpose         527428     13  debt_consolidation  298735"
      ],
      "text/html": [
       "<div>\n",
       "<style scoped>\n",
       "    .dataframe tbody tr th:only-of-type {\n",
       "        vertical-align: middle;\n",
       "    }\n",
       "\n",
       "    .dataframe tbody tr th {\n",
       "        vertical-align: top;\n",
       "    }\n",
       "\n",
       "    .dataframe thead th {\n",
       "        text-align: right;\n",
       "    }\n",
       "</style>\n",
       "<table border=\"1\" class=\"dataframe\">\n",
       "  <thead>\n",
       "    <tr style=\"text-align: right;\">\n",
       "      <th></th>\n",
       "      <th>count</th>\n",
       "      <th>unique</th>\n",
       "      <th>top</th>\n",
       "      <th>freq</th>\n",
       "    </tr>\n",
       "  </thead>\n",
       "  <tbody>\n",
       "    <tr>\n",
       "      <th>grade</th>\n",
       "      <td>527428</td>\n",
       "      <td>7</td>\n",
       "      <td>C</td>\n",
       "      <td>160021</td>\n",
       "    </tr>\n",
       "    <tr>\n",
       "      <th>home_ownership</th>\n",
       "      <td>527428</td>\n",
       "      <td>5</td>\n",
       "      <td>MORTGAGE</td>\n",
       "      <td>259852</td>\n",
       "    </tr>\n",
       "    <tr>\n",
       "      <th>purpose</th>\n",
       "      <td>527428</td>\n",
       "      <td>13</td>\n",
       "      <td>debt_consolidation</td>\n",
       "      <td>298735</td>\n",
       "    </tr>\n",
       "  </tbody>\n",
       "</table>\n",
       "</div>"
      ]
     },
     "execution_count": 12,
     "metadata": {},
     "output_type": "execute_result"
    }
   ],
   "execution_count": 12
  },
  {
   "metadata": {
    "ExecuteTime": {
     "end_time": "2024-05-16T19:48:29.306965Z",
     "start_time": "2024-05-16T19:48:29.230352Z"
    }
   },
   "cell_type": "code",
   "source": [
    "numerical_features = raw_dataset.select_dtypes(include=['int64', 'float64'])\n",
    "categorical_features = raw_dataset.select_dtypes(include=['object'])"
   ],
   "id": "7dc76eaeb3653712",
   "outputs": [],
   "execution_count": 14
  },
  {
   "metadata": {
    "ExecuteTime": {
     "end_time": "2024-05-16T19:52:42.167360Z",
     "start_time": "2024-05-16T19:52:41.964220Z"
    }
   },
   "cell_type": "code",
   "source": "categorical_features.value_counts()",
   "id": "6debb409b359d87e",
   "outputs": [
    {
     "data": {
      "text/plain": [
       "grade  home_ownership  purpose           \n",
       "C      MORTGAGE        debt_consolidation    45099\n",
       "B      MORTGAGE        debt_consolidation    41270\n",
       "C      RENT            debt_consolidation    39579\n",
       "B      RENT            debt_consolidation    33105\n",
       "A      MORTGAGE        debt_consolidation    25040\n",
       "                                             ...  \n",
       "B      ANY             vacation                  1\n",
       "       NONE            home_improvement          1\n",
       "C      MORTGAGE        wedding                   1\n",
       "       ANY             house                     1\n",
       "G      MORTGAGE        renewable_energy          1\n",
       "Name: count, Length: 299, dtype: int64"
      ]
     },
     "execution_count": 22,
     "metadata": {},
     "output_type": "execute_result"
    }
   ],
   "execution_count": 22
  },
  {
   "metadata": {},
   "cell_type": "code",
   "outputs": [],
   "execution_count": null,
   "source": "",
   "id": "45dafc50b296a31f"
  }
 ],
 "metadata": {
  "kernelspec": {
   "display_name": "Python 3",
   "language": "python",
   "name": "python3"
  },
  "language_info": {
   "codemirror_mode": {
    "name": "ipython",
    "version": 2
   },
   "file_extension": ".py",
   "mimetype": "text/x-python",
   "name": "python",
   "nbconvert_exporter": "python",
   "pygments_lexer": "ipython2",
   "version": "2.7.6"
  }
 },
 "nbformat": 4,
 "nbformat_minor": 5
}
